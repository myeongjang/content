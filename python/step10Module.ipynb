{
 "cells": [
  {
   "cell_type": "markdown",
   "metadata": {},
   "source": [
    "\n",
    "### 모듈이란?\n",
    "\n",
    "> 1. 함수나 변수들을 모아 놓은 library들 의미<br>\n",
    "      외부 라이브러리들 사용하응 방법,의미\n",
    "> 2. 모듈 사용 방법 <br>\n",
    "2-1. 모듈의 파일 확장자 : py <br>\n",
    "2-2. 모듈 사용 문법<br>\n",
    "  &nbsp;&nbsp;&nbsp; a. import file명 <br>\n",
    "  &nbsp;&nbsp;&nbsp; b. from file명 import 함수명<br>\n"
   ]
  },
  {
   "cell_type": "code",
   "execution_count": 3,
   "metadata": {},
   "outputs": [
    {
     "ename": "ModuleNotFoundError",
     "evalue": "No module named 'fibo'",
     "output_type": "error",
     "traceback": [
      "\u001b[1;31m---------------------------------------------------------------------------\u001b[0m",
      "\u001b[1;31mModuleNotFoundError\u001b[0m                       Traceback (most recent call last)",
      "\u001b[1;32m<ipython-input-3-6700934e24e9>\u001b[0m in \u001b[0;36m<module>\u001b[1;34m()\u001b[0m\n\u001b[0;32m      1\u001b[0m \u001b[1;31m# 모듈 import\u001b[0m\u001b[1;33m\u001b[0m\u001b[1;33m\u001b[0m\u001b[0m\n\u001b[1;32m----> 2\u001b[1;33m \u001b[1;32mimport\u001b[0m \u001b[0mfibo\u001b[0m\u001b[1;33m\u001b[0m\u001b[0m\n\u001b[0m\u001b[0;32m      3\u001b[0m \u001b[1;33m\u001b[0m\u001b[0m\n\u001b[0;32m      4\u001b[0m \u001b[0mfibo\u001b[0m\u001b[1;33m.\u001b[0m\u001b[0mfib\u001b[0m\u001b[1;33m(\u001b[0m\u001b[1;36m100\u001b[0m\u001b[1;33m)\u001b[0m\u001b[1;33m\u001b[0m\u001b[0m\n",
      "\u001b[1;31mModuleNotFoundError\u001b[0m: No module named 'fibo'"
     ]
    }
   ],
   "source": [
    "# 모듈 import\n",
    "import fibo\n",
    "\n",
    "fibo.fib(100)"
   ]
  },
  {
   "cell_type": "code",
   "execution_count": 7,
   "metadata": {},
   "outputs": [
    {
     "name": "stdout",
     "output_type": "stream",
     "text": [
      "Overwriting fibo.py\n"
     ]
    }
   ],
   "source": [
    "%%writefile fibo.py\n",
    "print(\"문자열\")"
   ]
  },
  {
   "cell_type": "code",
   "execution_count": 16,
   "metadata": {},
   "outputs": [
    {
     "name": "stdout",
     "output_type": "stream",
     "text": [
      "Overwriting fibo.py\n"
     ]
    }
   ],
   "source": [
    "%%writefile fibo.py\n",
    "# 피보나치 수열 모듕 개발\n",
    "def fib(n):\n",
    "    a,b=0,1\n",
    "    while b<n:\n",
    "        print(b,end=\"\")\n",
    "        a,b=b,a+b\n"
   ]
  },
  {
   "cell_type": "code",
   "execution_count": 26,
   "metadata": {},
   "outputs": [
    {
     "name": "stdout",
     "output_type": "stream",
     "text": [
      "112358python은 직접 명령어로 실행 시 자동 호출되는 영역\n"
     ]
    }
   ],
   "source": [
    "import fibo\n",
    "fibo.fib(10)\n",
    "\n",
    "\n",
    "# 자바에서 실행시 가장 먼저 실행되는 메소드, 없으면 실행이 안됬던 특수 메소드 : main\n",
    "# 파이썬 명령어로 직접 호출시에만 자동 실행되는 특수 문법\n",
    "# 외부에서  모듈로import시에는 무시되는 영역\n",
    "if __name__ == \"__main__\":\n",
    "    print(\"python은 직접 명령어로 실행 시 자동 호출되는 영역\")"
   ]
  },
  {
   "cell_type": "code",
   "execution_count": 28,
   "metadata": {},
   "outputs": [],
   "source": [
    "!python fibo.py"
   ]
  },
  {
   "cell_type": "code",
   "execution_count": 29,
   "metadata": {},
   "outputs": [
    {
     "name": "stdout",
     "output_type": "stream",
     "text": [
      "112358"
     ]
    }
   ],
   "source": [
    "from fibo import fib\n",
    "fib(10)"
   ]
  },
  {
   "cell_type": "code",
   "execution_count": 6,
   "metadata": {},
   "outputs": [
    {
     "name": "stdout",
     "output_type": "stream",
     "text": [
      " C 드라이브의 볼륨에는 이름이 없습니다.\n",
      " 볼륨 일련 번호: FC6F-776B\n",
      "\n",
      " C:\\0. ITStudy\\6.python\\step09-10 디렉터리\n",
      "\n",
      "2018-11-19  오전 10:47    <DIR>          .\n",
      "2018-11-19  오전 10:47    <DIR>          ..\n",
      "2018-11-19  오전 10:44    <DIR>          .ipynb_checkpoints\n",
      "2018-11-13  오후 03:19    <DIR>          dataSet\n",
      "2018-11-19  오전 10:47                18 fibo.py\n",
      "2018-11-13  오전 09:45             9,282 step09OOP.ipynb\n",
      "2018-11-19  오전 10:46             6,310 step10Module.ipynb\n",
      "2018-11-13  오전 09:55             3,751 step11FileIO.ipynb\n",
      "               4개 파일              19,361 바이트\n",
      "               4개 디렉터리  91,856,773,120 바이트 남음\n"
     ]
    }
   ],
   "source": [
    "!dir"
   ]
  },
  {
   "cell_type": "code",
   "execution_count": 2,
   "metadata": {},
   "outputs": [
    {
     "ename": "ModuleNotFoundError",
     "evalue": "No module named 'fibo'",
     "output_type": "error",
     "traceback": [
      "\u001b[1;31m---------------------------------------------------------------------------\u001b[0m",
      "\u001b[1;31mModuleNotFoundError\u001b[0m                       Traceback (most recent call last)",
      "\u001b[1;32m<ipython-input-2-2eabfc6bb10f>\u001b[0m in \u001b[0;36m<module>\u001b[1;34m()\u001b[0m\n\u001b[0;32m      1\u001b[0m \u001b[1;31m# from 모듈 improt 함수명\u001b[0m\u001b[1;33m\u001b[0m\u001b[1;33m\u001b[0m\u001b[0m\n\u001b[1;32m----> 2\u001b[1;33m \u001b[1;32mfrom\u001b[0m \u001b[0mfibo\u001b[0m \u001b[1;32mimport\u001b[0m \u001b[0mfib\u001b[0m\u001b[1;33m\u001b[0m\u001b[0m\n\u001b[0m\u001b[0;32m      3\u001b[0m \u001b[1;33m\u001b[0m\u001b[0m\n\u001b[0;32m      4\u001b[0m \u001b[0mfib\u001b[0m\u001b[1;33m(\u001b[0m\u001b[1;36m10\u001b[0m\u001b[1;33m)\u001b[0m\u001b[1;33m\u001b[0m\u001b[0m\n",
      "\u001b[1;31mModuleNotFoundError\u001b[0m: No module named 'fibo'"
     ]
    }
   ],
   "source": [
    "# from 모듈 improt 함수명\n",
    "from fibo import fib\n",
    "\n",
    "fib(10)"
   ]
  },
  {
   "cell_type": "code",
   "execution_count": 4,
   "metadata": {},
   "outputs": [
    {
     "name": "stdout",
     "output_type": "stream",
     "text": [
      "1 1 2 3 5 8 13 \n"
     ]
    }
   ],
   "source": [
    "from fibo import *\n",
    "fib(20)"
   ]
  },
  {
   "cell_type": "code",
   "execution_count": 8,
   "metadata": {},
   "outputs": [
    {
     "name": "stdout",
     "output_type": "stream",
     "text": [
      "Writing mymath.py\n"
     ]
    }
   ],
   "source": [
    "%%writefile mymath.py\n",
    "# 쥬피터 노트북에서\n",
    "mypi = 3.14\n",
    "def add(a,b):\n",
    "    return a+b\n",
    "\n",
    "def area(r):\n",
    "    return r*r*mypi"
   ]
  },
  {
   "cell_type": "code",
   "execution_count": 9,
   "metadata": {},
   "outputs": [
    {
     "name": "stdout",
     "output_type": "stream",
     "text": [
      " C 드라이브의 볼륨에는 이름이 없습니다.\n",
      " 볼륨 일련 번호: FC6F-776B\n",
      "\n",
      " C:\\0. ITStudy\\6.python\\step09-10 디렉터리\n",
      "\n",
      "2018-11-19  오전 10:48    <DIR>          .\n",
      "2018-11-19  오전 10:48    <DIR>          ..\n",
      "2018-11-19  오전 10:46    <DIR>          .ipynb_checkpoints\n",
      "2018-11-13  오후 03:19    <DIR>          dataSet\n",
      "2018-11-19  오전 10:48                18 fibo.py\n",
      "2018-11-19  오전 10:48               108 mymath.py\n",
      "2018-11-13  오전 09:45             9,282 step09OOP.ipynb\n",
      "2018-11-19  오전 10:48             7,704 step10Module.ipynb\n",
      "2018-11-13  오전 09:55             3,751 step11FileIO.ipynb\n",
      "               5개 파일              20,863 바이트\n",
      "               4개 디렉터리  91,856,756,736 바이트 남음\n"
     ]
    }
   ],
   "source": [
    "!dir"
   ]
  },
  {
   "cell_type": "code",
   "execution_count": 14,
   "metadata": {},
   "outputs": [
    {
     "data": {
      "text/plain": [
       "['__builtins__',\n",
       " '__cached__',\n",
       " '__doc__',\n",
       " '__file__',\n",
       " '__loader__',\n",
       " '__name__',\n",
       " '__package__',\n",
       " '__spec__',\n",
       " 'add',\n",
       " 'area',\n",
       " 'mypi']"
      ]
     },
     "execution_count": 14,
     "metadata": {},
     "output_type": "execute_result"
    }
   ],
   "source": [
    "dir(mymath) #__가 붙은 이름들은 시스템이 자동 설정"
   ]
  },
  {
   "cell_type": "code",
   "execution_count": 31,
   "metadata": {},
   "outputs": [
    {
     "name": "stdout",
     "output_type": "stream",
     "text": [
      "11235830\n"
     ]
    }
   ],
   "source": [
    "from mymath import add\n",
    "import fibo as f\n",
    "f.fib(10)\n",
    "\n",
    "# 파일명으로 import\n",
    "# 파일명.함수명으로 호출\n",
    "\n",
    "print(add(10, 20))"
   ]
  },
  {
   "cell_type": "code",
   "execution_count": 18,
   "metadata": {},
   "outputs": [],
   "source": [
    "#절대 가져오기 : sys.path변수에 정해진 순서대로  가져옴\n",
    "#상대 가져오기 : 현재모듈에 속해있는 패키지를 기준으로 상대적인 위치에서 가져올 모듈을 찾는다.\n",
    "import math  #math는 모듈이름   math.pi\n",
    "from math import sin,cos, pi #math모듈에서 특정이름만을 현재 이름공간으로 가져온다.  pi\n",
    "from math import *\n",
    "import numpy as np #모듈이름을 다른 이름으로 사용하고자 하는 경우. 이름이 너무 길거나 이름이 충돌된 경우 \n",
    "from math import factorial as fact #모듈내의 정의한 이름을 다른 이름으로 사용하고자 하는 경우  \n",
    "from math import factorial as fact , sqrt as sq"
   ]
  },
  {
   "cell_type": "code",
   "execution_count": 30,
   "metadata": {},
   "outputs": [
    {
     "data": {
      "text/plain": [
       "'factorial'"
      ]
     },
     "execution_count": 30,
     "metadata": {},
     "output_type": "execute_result"
    }
   ],
   "source": [
    "from math import factorial as fact\n",
    "fact.__name__"
   ]
  }
 ],
 "metadata": {
  "kernelspec": {
   "display_name": "Python 3",
   "language": "python",
   "name": "python3"
  },
  "language_info": {
   "codemirror_mode": {
    "name": "ipython",
    "version": 3
   },
   "file_extension": ".py",
   "mimetype": "text/x-python",
   "name": "python",
   "nbconvert_exporter": "python",
   "pygments_lexer": "ipython3",
   "version": "3.7.0"
  }
 },
 "nbformat": 4,
 "nbformat_minor": 2
}

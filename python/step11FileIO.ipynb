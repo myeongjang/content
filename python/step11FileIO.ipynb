{
 "cells": [
  {
   "cell_type": "markdown",
   "metadata": {},
   "source": [
    "### 1. 논리적인 파일 구조\n",
    "\n",
    "* 데이터 입출력 기본   오픈 >> 사용 >> 자원반환\n",
    ">1. 파일 안에는 바이트들이 순차적으로 저장되어 있고 맨 끝에는 EOF(end-of-file) 마커가 있음\n",
    "\n",
    ">2. 모든 파일은 입출력 동작이 발생하는 위치를 나타내는 위치 표시자(position indicator)를 가지고 있음\n",
    "\n",
    ">3. 텍스트 파일 읽고 쓰기<br>\n",
    "   - open(\"file 이름\", 파일열기모드, 인코딩)<br>\n",
    "   - 파일 열기 모드<br>\n",
    "       1. r : 읽기 모드(파일의 처음부터 read)<br>\n",
    "       2. w : 쓰기 모드(파일의 처음부터 쓰기, 파일이 없으면 생성, 존재하면 기존 내용은 지우고 새로 작성)<br>\n",
    "       3. a : 추가 모드(파일의 끝에 씀, 파일이 없으면 생성)<br>\n",
    "       4. r+ : 읽기 쓰기 모드(파일에 읽고 쓸수 있는 모드)\n",
    ">4. test를 위한 데이터 위치 dataSet이라는 폴더에 저장되어 있음    "
   ]
  },
  {
   "cell_type": "code",
   "execution_count": 1,
   "metadata": {},
   "outputs": [
    {
     "data": {
      "text/plain": [
       "<function TextIOWrapper.close()>"
      ]
     },
     "execution_count": 1,
     "metadata": {},
     "output_type": "execute_result"
    }
   ],
   "source": [
    "# oupput.txt 파일 생성 및 데이터 출력\n",
    "# 한글 데이터 고려 -utf-8\n",
    "# 출력 모드의 파일 생성\n",
    "f=open(\"output.txt\",\"w\",encoding=\"UTF-8\")\n",
    "# 데이터 출력\n",
    "f.write(\"data 출력확인 \\n\")\n",
    "#다음라인에 한글입력출력\n",
    "f.write(\"권혁구\")\n",
    "\n",
    "\n",
    "f.close"
   ]
  },
  {
   "cell_type": "code",
   "execution_count": 2,
   "metadata": {},
   "outputs": [],
   "source": [
    "## 필수인 자원반환을 자동으로 적용돠게 하는 코드 수정\n",
    "with open(\"output2.txt\",\"w\",encoding=\"UTF-8\") as f:\n",
    "    f.write(\"data 출력확인 \\n\")\n",
    "    f.write(\"권혁구\")"
   ]
  },
  {
   "cell_type": "code",
   "execution_count": 3,
   "metadata": {},
   "outputs": [
    {
     "name": "stdout",
     "output_type": "stream",
     "text": [
      " C 드라이브의 볼륨: Windows\n",
      " 볼륨 일련 번호: B2BD-5184\n",
      "\n",
      " C:\\0.ITstudy\\6.python\\content\\python 디렉터리\n",
      "\n",
      "2018-11-19  오후 02:59    <DIR>          .\n",
      "2018-11-19  오후 02:59    <DIR>          ..\n",
      "2018-11-19  오전 10:44    <DIR>          .ipynb_checkpoints\n",
      "2018-11-13  오후 09:01               362 1.listStudy\n",
      "2018-11-12  오전 10:48             8,286 11.12_파이썬_문제(병길).ipynb\n",
      "2018-11-12  오전 09:01             6,574 7번 부등식.png\n",
      "2018-11-19  오전 10:43    <DIR>          dataSet\n",
      "2018-11-07  오후 04:08             1,788 ex02_formating.ipynb\n",
      "2018-11-09  오전 09:57             4,020 ex4_string_method.ipynb\n",
      "2018-11-19  오전 10:52                94 fibo.py\n",
      "2018-11-19  오전 10:50                94 mymath.py\n",
      "2018-11-19  오후 02:59                 0 output.txt\n",
      "2018-11-19  오후 02:59                29 output2.txt\n",
      "2018-11-12  오후 12:47            14,585 solution.ipynb\n",
      "2018-11-09  오전 09:09             5,687 step01Calculation.ipynb\n",
      "2018-11-09  오전 09:09            19,099 step02Type1.ipynb\n",
      "2018-11-09  오전 09:13            12,801 step03ConditionLoop.ipynb\n",
      "2018-11-12  오전 09:52            41,041 step04Type2ListTupleDictSet.ipynb\n",
      "2018-11-12  오전 08:38            10,460 step05Function.ipynb\n",
      "2018-11-12  오후 03:21            24,262 step06Comprehension.ipynb\n",
      "2018-11-12  오후 03:48             2,040 step07tuple.ipynb\n",
      "2018-11-14  오전 08:39            14,846 step08Class.ipynb\n",
      "2018-11-19  오전 11:07            10,562 step10Module.ipynb\n",
      "2018-11-19  오후 02:30            13,022 step11FileIO.ipynb\n",
      "2018-11-19  오전 11:00             1,994 Untitled.ipynb\n",
      "2018-11-19  오전 10:52    <DIR>          __pycache__\n",
      "2018-11-12  오전 11:06            13,293 문제지.ipynb\n",
      "              22개 파일             204,939 바이트\n",
      "               5개 디렉터리  25,864,654,848 바이트 남음\n"
     ]
    }
   ],
   "source": [
    "!dir"
   ]
  },
  {
   "cell_type": "code",
   "execution_count": 4,
   "metadata": {},
   "outputs": [],
   "source": [
    "# 리스트의 데이터를 index를 자동 반영해서 데이터 하나씩만 추출 및 출력\n",
    "# 반복문 f.writeline(list)\\\n",
    "\n",
    "# 한칸씩 띄어서 삽입시키기\n",
    "# join 함수로 \\n 을 반영하기\n",
    "# 2-1 하나의 문자열 join\n",
    "\n",
    "lines =[\"Data1\",\"data2\",\"data3\"]\n",
    "with open(\"output3\",\"w\") as f:\n",
    "    f.writelines(\"\\n\".join(lines))"
   ]
  },
  {
   "cell_type": "code",
   "execution_count": 5,
   "metadata": {},
   "outputs": [
    {
     "name": "stdout",
     "output_type": "stream",
     "text": [
      "Data1\n",
      "data2\n",
      "data3\n"
     ]
    }
   ],
   "source": [
    "#output3.txt로 부터 데이터 read\n",
    "with open(\"output3\",\"r\") as f:\n",
    "    print(f.read())\n"
   ]
  },
  {
   "cell_type": "code",
   "execution_count": null,
   "metadata": {},
   "outputs": [],
   "source": []
  },
  {
   "cell_type": "code",
   "execution_count": 6,
   "metadata": {},
   "outputs": [
    {
     "name": "stdout",
     "output_type": "stream",
     "text": [
      "내 속엔 내가 너무도 많아 당신의 쉴 곳 없네\n",
      "내 속엔 헛된바램들로 당신의 편할 곳 없네\n",
      "내 속엔 내가 어쩔 수 없는 어둠 당신의 쉴 자리를 뺏고\n",
      "내 속엔 내가 이길 수 없는 슬픔 무성한 가시나무숲같네\n",
      "\n",
      "바람만 불면 그 메마른가지 서로 부대끼며 울어대고\n",
      "쉴곳을 찾아 지쳐 날아온 어린새들도 가시에 찔려 날아가고\n",
      "바람만 불면 외롭고 또 괴로워 슬픈 노래를 부르던 날이 많았는데\n",
      "\n",
      "내 속엔 내가 너무도 많아서 당신의 쉴 곳 없네\n",
      "\n",
      "\n",
      "바람만 불면 그 메마른가지 서로 부대끼며 울어대고\n",
      "쉴곳을 찾아 지쳐 날아온 어린새들도 가시에 찔려 날아가고\n",
      "바람만 불면 외롭고 또 괴로워 슬픈 노래를 부르던 날이 많았는데\n",
      "\n",
      "내 속엔 내가 너무도 많아서 당신의 쉴 곳 없네\n"
     ]
    }
   ],
   "source": [
    "# 데이터 set이라는 폴더 하위에 poem.txt. 내용을을  read해서 콘솔에 출력하기\n",
    "with open(\"dataSet/poem.txt\",\"r\",encoding=\"UTF-8\") as p:\n",
    "    print(p.read()) #전체를 읽어오는거"
   ]
  },
  {
   "cell_type": "code",
   "execution_count": 7,
   "metadata": {},
   "outputs": [
    {
     "name": "stdout",
     "output_type": "stream",
     "text": [
      "내 속엔 내가 너무도 많아 당신의 쉴 곳 없네\n",
      "\n"
     ]
    }
   ],
   "source": [
    "with open(\"dataSet/poem.txt\",\"r\",encoding=\"UTF-8\") as p:\n",
    "    print(p.readline())\n",
    "    # 한 라인만 read하는거\n",
    "    #\n",
    "    "
   ]
  },
  {
   "cell_type": "code",
   "execution_count": 8,
   "metadata": {},
   "outputs": [
    {
     "name": "stdout",
     "output_type": "stream",
     "text": [
      "['내 속엔 내가 너무도 많아 당신의 쉴 곳 없네\\n', '내 속엔 헛된바램들로 당신의 편할 곳 없네\\n', '내 속엔 내가 어쩔 수 없는 어둠 당신의 쉴 자리를 뺏고\\n', '내 속엔 내가 이길 수 없는 슬픔 무성한 가시나무숲같네\\n', '\\n', '바람만 불면 그 메마른가지 서로 부대끼며 울어대고\\n', '쉴곳을 찾아 지쳐 날아온 어린새들도 가시에 찔려 날아가고\\n', '바람만 불면 외롭고 또 괴로워 슬픈 노래를 부르던 날이 많았는데\\n', '\\n', '내 속엔 내가 너무도 많아서 당신의 쉴 곳 없네\\n', '\\n', '\\n', '바람만 불면 그 메마른가지 서로 부대끼며 울어대고\\n', '쉴곳을 찾아 지쳐 날아온 어린새들도 가시에 찔려 날아가고\\n', '바람만 불면 외롭고 또 괴로워 슬픈 노래를 부르던 날이 많았는데\\n', '\\n', '내 속엔 내가 너무도 많아서 당신의 쉴 곳 없네']\n"
     ]
    }
   ],
   "source": [
    "with open(\"dataSet/poem.txt\",\"r\",encoding=\"UTF-8\") as p:\n",
    "    print(p.readlines())\n",
    "    # 파일 전체를 줄단위로 구분해서 list에 저장"
   ]
  },
  {
   "cell_type": "code",
   "execution_count": 9,
   "metadata": {},
   "outputs": [],
   "source": [
    "# output3.txt 데이터를 반드시 readlines()로 read서 한라인씩 출력"
   ]
  },
  {
   "cell_type": "code",
   "execution_count": 10,
   "metadata": {},
   "outputs": [
    {
     "name": "stdout",
     "output_type": "stream",
     "text": [
      "Data1\n",
      "data2\n",
      "data3"
     ]
    }
   ],
   "source": [
    "#output3.txt로 부터 데이터 read\n",
    "with open(\"output3\",\"r\") as f:\n",
    "    datas=f.readlines()\n",
    "    for v in datas:\n",
    "        print(v, end=\"\")"
   ]
  },
  {
   "cell_type": "markdown",
   "metadata": {},
   "source": [
    "#### Lab 1 - dataSet.txt 파일을 만들고 #으로 시작하는 문장만 출력해 보기\n",
    "> 힌트 : startwith() "
   ]
  },
  {
   "cell_type": "code",
   "execution_count": 11,
   "metadata": {},
   "outputs": [
    {
     "name": "stdout",
     "output_type": "stream",
     "text": [
      "Writing dataSet.txt\n"
     ]
    }
   ],
   "source": [
    "%%file dataSet.txt\n",
    "\n",
    "NumPy is the fundamental package for scientific computing with Python. It contains among other things:\n",
    "\n",
    "# comment1..\n",
    "\n",
    "  * a powerful N-dimensional array object\n",
    "  * sophisticated (broadcasting) functions\n",
    "  * tools for integrating C/C++ and Fortran code\n",
    "  * useful linear algebra, Fourier transform, and random number capabilities\n",
    "\n",
    "# comment2..\n",
    "\n",
    "Besides its obvious scientific uses, NumPy can also be used as an efficient multi-dimensional container of generic data. Arbitrary data-types can be defined. This allows NumPy to seamlessly and speedily integrate with a wide variety of databases.\n",
    "\n",
    "Numpy is licensed under the BSD license, enabling reuse with few restrictions.\n"
   ]
  },
  {
   "cell_type": "code",
   "execution_count": 12,
   "metadata": {},
   "outputs": [
    {
     "name": "stdout",
     "output_type": "stream",
     "text": [
      "# comment1..\n",
      "\n",
      "# comment2..\n",
      "\n"
     ]
    }
   ],
   "source": [
    "# for + open() = line 단위로 read 따라서 데이터 조작이 용이\n",
    "\n",
    "for line in open(\"dataSet.txt\"):\n",
    "    if line.startswith(\"#\"):\n",
    "        print(line)\n",
    "    "
   ]
  },
  {
   "cell_type": "markdown",
   "metadata": {},
   "source": [
    "### Lab 2 - 줄 앞에 번호붙이기 \n",
    "\n",
    "> 텍스트 파일을 열어서 각 줄의 앞에 번호를 매겨서 다시 파일에 쓰는 프로그램을 작성해보자<br>\n",
    "> 참조 파일명 : dataSet/lineInsert.txt (dataSet 폴더에 있음)\n"
   ]
  },
  {
   "cell_type": "code",
   "execution_count": 13,
   "metadata": {},
   "outputs": [],
   "source": [
    "infile=open(\"dataSet/lineInsert.txt\",\"r\")\n",
    "outfile=open(\"lineInsertoutput.txt\",\"w\")\n",
    "\n",
    "i=1\n",
    "for line in infile:\n",
    "    outfile.write(str(i) + \".\" +line)\n",
    "    i = i+1\n",
    "    \n",
    "infile.close()\n",
    "outfile.close()\n",
    "\n",
    "    "
   ]
  },
  {
   "cell_type": "markdown",
   "metadata": {},
   "source": [
    "### Lab 3  - 매출 파일 처리\n",
    "> 텍스트 파일에 상점의 매출이 저장되어 있다. read해서 평균 매출과 총 매출을 계산한 후에 다른 파일에 출력하는 프로그램 작성해 보기<br>\n",
    "> 참조 파일명 : dataSet/sales.txt "
   ]
  },
  {
   "cell_type": "code",
   "execution_count": 14,
   "metadata": {},
   "outputs": [],
   "source": [
    "infilename = 'dataSet/sales.txt';\n",
    "outfilename = \"result.txt\"\n",
    "\n",
    "infile = open(infilename ,\"r\")\n",
    "outfile = open(outfilename, \"w\", encoding = \"utf-8\")\n",
    "sum = 0\n",
    "count =0\n",
    "\n",
    "for line in infile:\n",
    "    sum += int(line)\n",
    "    count += 1\n",
    "outfile.write(\"총매출 = \"+ str(sum)+ \"\\n\")\n",
    "outfile.write(\"평균 매출 = \" + str(sum/count))\n",
    "\n",
    "infile.close()\n",
    "outfile.close()"
   ]
  },
  {
   "cell_type": "markdown",
   "metadata": {},
   "source": [
    "### Lab4 - 파일의 데이터를 read해서 각 문자 횟수 세기\n",
    "\n",
    ">참조 파일명 : dataSet/dataSet.txt\n"
   ]
  },
  {
   "cell_type": "code",
   "execution_count": 22,
   "metadata": {},
   "outputs": [],
   "source": [
    "infilename = 'dataSet/dataSet.txt';\n",
    "outfilename = \"result_number.txt\";\n",
    "\n",
    "infile = open(infilename ,\"r\")\n",
    "outfile = open(outfilename, \"w\",encoding = \"utf-8\")\n",
    "result = dict()\n",
    "for line in infile:\n",
    "    for word in line.strip():\n",
    "        if word in result:   \n",
    "            result[word] +=1\n",
    "        else:\n",
    "            result[word] = 1\n",
    "\n",
    "outfile.write(str(result)+ \"\\n\")\n",
    "\n",
    "infile.close()\n",
    "outfile.close()"
   ]
  },
  {
   "cell_type": "markdown",
   "metadata": {},
   "source": []
  },
  {
   "cell_type": "code",
   "execution_count": 1,
   "metadata": {},
   "outputs": [
    {
     "ename": "NameError",
     "evalue": "name 're' is not defined",
     "output_type": "error",
     "traceback": [
      "\u001b[1;31m---------------------------------------------------------------------------\u001b[0m",
      "\u001b[1;31mNameError\u001b[0m                                 Traceback (most recent call last)",
      "\u001b[1;32m<ipython-input-1-f3476c962255>\u001b[0m in \u001b[0;36m<module>\u001b[1;34m()\u001b[0m\n\u001b[1;32m----> 1\u001b[1;33m \u001b[0mpattern\u001b[0m \u001b[1;33m=\u001b[0m \u001b[0mre\u001b[0m\u001b[1;33m.\u001b[0m\u001b[0mcompile\u001b[0m\u001b[1;33m(\u001b[0m\u001b[1;34m\"test\"\u001b[0m\u001b[1;33m)\u001b[0m\u001b[1;33m\u001b[0m\u001b[0m\n\u001b[0m",
      "\u001b[1;31mNameError\u001b[0m: name 're' is not defined"
     ]
    }
   ],
   "source": []
  },
  {
   "cell_type": "code",
   "execution_count": null,
   "metadata": {},
   "outputs": [],
   "source": []
  }
 ],
 "metadata": {
  "kernelspec": {
   "display_name": "Python 3",
   "language": "python",
   "name": "python3"
  },
  "language_info": {
   "codemirror_mode": {
    "name": "ipython",
    "version": 3
   },
   "file_extension": ".py",
   "mimetype": "text/x-python",
   "name": "python",
   "nbconvert_exporter": "python",
   "pygments_lexer": "ipython3",
   "version": "3.6.5"
  }
 },
 "nbformat": 4,
 "nbformat_minor": 2
}

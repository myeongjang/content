{
 "cells": [
  {
   "cell_type": "markdown",
   "metadata": {},
   "source": [
    "# 사용자 정의 파이썬 클래스 개발 방법 학습\n",
    "1. 주요 키워드 및 기호 : self\n",
    "- 자바와 비교사 : 데이터 표현 전용 구조의 클래스 "
   ]
  },
  {
   "cell_type": "code",
   "execution_count": 1,
   "metadata": {},
   "outputs": [],
   "source": [
    "class MyClass2:\n",
    "    def set(self,v):\n",
    "        self.value = v\n",
    "    \n",
    "    def get(self):\n",
    "        return self.value\n",
    "    \n",
    "    def incr(self):\n",
    "        self.value += 1\n",
    "        return get()\n",
    "    \n"
   ]
  },
  {
   "cell_type": "code",
   "execution_count": null,
   "metadata": {},
   "outputs": [],
   "source": [
    "class Book:\n",
    "    def __init__(self, title, author, pages):\n",
    "        self.title = title\n",
    "        self.author = author\n",
    "        self.pages"
   ]
  },
  {
   "cell_type": "code",
   "execution_count": 34,
   "metadata": {},
   "outputs": [],
   "source": [
    "class UserClass:\n",
    "    # 생성자\n",
    "    def __init__(self,data):\n",
    "        self.instanceVar = data\n",
    "        print('생성장')\n",
    "        \n",
    "    #멤버 변수값 반환 하는 메소드\n",
    "    def getinstanceVar(self):\n",
    "        return self.instanceVar\n",
    "def getinstanceVar2():\n",
    "    return 'data'"
   ]
  },
  {
   "cell_type": "code",
   "execution_count": 35,
   "metadata": {},
   "outputs": [
    {
     "name": "stdout",
     "output_type": "stream",
     "text": [
      "생성장\n"
     ]
    },
    {
     "data": {
      "text/plain": [
       "'변수'"
      ]
     },
     "execution_count": 35,
     "metadata": {},
     "output_type": "execute_result"
    }
   ],
   "source": [
    "i1 = UserClass('변수')\n",
    "data = i1.getinstanceVar()\n",
    "data"
   ]
  },
  {
   "cell_type": "code",
   "execution_count": 36,
   "metadata": {},
   "outputs": [
    {
     "data": {
      "text/plain": [
       "'data'"
      ]
     },
     "execution_count": 36,
     "metadata": {},
     "output_type": "execute_result"
    }
   ],
   "source": [
    "data2 = getinstanceVar2()\n",
    "data2"
   ]
  },
  {
   "cell_type": "code",
   "execution_count": 73,
   "metadata": {},
   "outputs": [],
   "source": [
    "class Person:\n",
    "    def __init__(self,name='haha',age = 20):\n",
    "        self.name = name\n",
    "        self.age = age\n",
    "    def getname(self):\n",
    "        return self.name\n",
    "    def setname(self,Name):\n",
    "        self.name = Name\n",
    "    def getage(self):\n",
    "        return self.age\n",
    "    def setAge(self,Age):\n",
    "        self.age = Age"
   ]
  },
  {
   "cell_type": "code",
   "execution_count": 60,
   "metadata": {},
   "outputs": [],
   "source": [
    "jacob = Person('jake')\n",
    "jacob.getname()\n",
    "jacob.setname('yark')"
   ]
  },
  {
   "cell_type": "code",
   "execution_count": 61,
   "metadata": {},
   "outputs": [
    {
     "data": {
      "text/plain": [
       "'yark'"
      ]
     },
     "execution_count": 61,
     "metadata": {},
     "output_type": "execute_result"
    }
   ],
   "source": [
    "jacob.getname()"
   ]
  },
  {
   "cell_type": "code",
   "execution_count": 62,
   "metadata": {},
   "outputs": [],
   "source": [
    "jacob.setname('yo')"
   ]
  },
  {
   "cell_type": "code",
   "execution_count": 63,
   "metadata": {},
   "outputs": [
    {
     "data": {
      "text/plain": [
       "'yo'"
      ]
     },
     "execution_count": 63,
     "metadata": {},
     "output_type": "execute_result"
    }
   ],
   "source": [
    "jacob.getname()"
   ]
  },
  {
   "cell_type": "code",
   "execution_count": 76,
   "metadata": {},
   "outputs": [],
   "source": [
    "yo = Person()"
   ]
  },
  {
   "cell_type": "code",
   "execution_count": 77,
   "metadata": {},
   "outputs": [
    {
     "data": {
      "text/plain": [
       "'haha'"
      ]
     },
     "execution_count": 77,
     "metadata": {},
     "output_type": "execute_result"
    }
   ],
   "source": [
    "yo.getname()"
   ]
  },
  {
   "cell_type": "code",
   "execution_count": 78,
   "metadata": {},
   "outputs": [
    {
     "data": {
      "text/plain": [
       "20"
      ]
     },
     "execution_count": 78,
     "metadata": {},
     "output_type": "execute_result"
    }
   ],
   "source": [
    "yo.getage()"
   ]
  },
  {
   "cell_type": "code",
   "execution_count": 79,
   "metadata": {},
   "outputs": [],
   "source": [
    "class Person1:\n",
    "    def __init__(self):\n",
    "        self.name = 'hhh'"
   ]
  },
  {
   "cell_type": "code",
   "execution_count": 85,
   "metadata": {},
   "outputs": [],
   "source": [
    "p = Person1()"
   ]
  },
  {
   "cell_type": "code",
   "execution_count": 86,
   "metadata": {},
   "outputs": [],
   "source": [
    "p.name = 'jaja'"
   ]
  },
  {
   "cell_type": "code",
   "execution_count": 87,
   "metadata": {},
   "outputs": [
    {
     "name": "stdout",
     "output_type": "stream",
     "text": [
      "jaja\n"
     ]
    }
   ],
   "source": [
    "print(p.name)"
   ]
  },
  {
   "cell_type": "code",
   "execution_count": 110,
   "metadata": {},
   "outputs": [
    {
     "name": "stdout",
     "output_type": "stream",
     "text": [
      "<class 'numpy.ndarray'>\n",
      "0.0\n"
     ]
    }
   ],
   "source": [
    "import numpy as np \n",
    "a = np.zeros((2,3))\n",
    "print(type(a))\n",
    "print(a[0][2])"
   ]
  },
  {
   "cell_type": "code",
   "execution_count": 229,
   "metadata": {},
   "outputs": [],
   "source": [
    "\"\"\"\n",
    "벡터값 구하는 클래스를 만든다\n",
    "\"\"\"\n",
    "import numpy as np\n",
    "\n",
    "class Vector:\n",
    "    def __init__(self,x,y,result = np.zeros((2,2))):\n",
    "        self.x = x\n",
    "        self.y = y\n",
    "    def getVector(self):\n",
    "        result = np.zeros((len(self.x),len(self.y[0])))\n",
    "        for i in range(len(self.x)):\n",
    "            for j in range(len(self.y[0])):\n",
    "                for k in range(len(self.y)):\n",
    "                    result[i][j] += self.x[i][k] * self.y[k][j]\n",
    "        print(result)"
   ]
  },
  {
   "cell_type": "code",
   "execution_count": 230,
   "metadata": {},
   "outputs": [
    {
     "name": "stdout",
     "output_type": "stream",
     "text": [
      "3\n"
     ]
    }
   ],
   "source": [
    "X = [[1, 2, 3],\n",
    "     [4 ,5, 6],\n",
    "     [5, 2, 3],\n",
    "     [8, 4, 6]]\n",
    "Y = [[1, 2,4],\n",
    "     [3 ,4,6],\n",
    "     [5 ,6,7]]\n",
    "v = Vector(X,Y)\n",
    "print(len(Y[0]))"
   ]
  },
  {
   "cell_type": "code",
   "execution_count": 231,
   "metadata": {},
   "outputs": [
    {
     "name": "stdout",
     "output_type": "stream",
     "text": [
      "[[22. 28. 37.]\n",
      " [49. 64. 88.]\n",
      " [26. 36. 53.]\n",
      " [50. 68. 98.]]\n"
     ]
    }
   ],
   "source": [
    "v.getVector()"
   ]
  },
  {
   "cell_type": "code",
   "execution_count": 168,
   "metadata": {},
   "outputs": [
    {
     "name": "stdout",
     "output_type": "stream",
     "text": [
      "도기:멍멍\n",
      "도기:헥헥\n"
     ]
    }
   ],
   "source": [
    "class Dog:\n",
    "    name = \"\"\n",
    "    age = 0\n",
    "    color = \"\"\n",
    "    bread = \"\"\n",
    "    \n",
    "    def __init__(self,name,age,color,bread):\n",
    "        self.name = name\n",
    "        self.age = age\n",
    "        self.color = color\n",
    "        self.bread = bread\n",
    "    def run(self):\n",
    "        print((self.name) + \":헥헥\")\n",
    "        \n",
    "    def bark(self):\n",
    "        print((self.name) + \":멍멍\")\n",
    "        \n",
    "s = Dog(\"도기\", 10, \"말티즈\", \"하얀색\")\n",
    "s.bark()\n",
    "s.run()"
   ]
  },
  {
   "cell_type": "markdown",
   "metadata": {},
   "source": [
    "# class 변수\n",
    "1. class 변수란? class 내에 선언되는 변수, 생성되는 "
   ]
  },
  {
   "cell_type": "code",
   "execution_count": 252,
   "metadata": {},
   "outputs": [],
   "source": [
    "class People:\n",
    "    no = 0 # class 멤버 변수\n",
    "    def __init__(self, age = 1):\n",
    "        People.no += 3\n",
    "        self.age = age #instance 멤버 변수\n",
    "        "
   ]
  },
  {
   "cell_type": "code",
   "execution_count": 255,
   "metadata": {},
   "outputs": [
    {
     "name": "stdout",
     "output_type": "stream",
     "text": [
      "15\n",
      "18\n"
     ]
    }
   ],
   "source": [
    "p11 = People()\n",
    "print(p11.no)\n",
    "p12 = People()\n",
    "print(p11.no)"
   ]
  },
  {
   "cell_type": "markdown",
   "metadata": {},
   "source": [
    "# private 변수\n",
    "1. 문법 : 언더바 두개로 선언\n",
    "2. 권장사항 : 변수가 private인 경우 set/getXxx메소드 추가 구현 권장\n",
    "   단, setXxx()는 유효성 검증"
   ]
  },
  {
   "cell_type": "code",
   "execution_count": 256,
   "metadata": {},
   "outputs": [],
   "source": [
    "# 외부에서 호출 불가능한 데이터 관리\n",
    "# 가령 age등은 1살 이산인 유효한 데이터에 한해서 저장 보장\n",
    "# 유효성 검증 실행후 대입\n",
    "# 주의사항 : 변수에는 직접 접근 불가\n",
    "# 은닉성(encapsulation)\n",
    "class People2:\n",
    "    def __init__(self,name = \"이이\", age=0):\n",
    "        self.name = name\n",
    "        self.age = age\n",
    "        "
   ]
  },
  {
   "cell_type": "markdown",
   "metadata": {},
   "source": [
    "# 생성자와 소멸자\n",
    "    1.init() :생성자(constructor)는 객체가 생성될 떄 객체를 기본값으로 초기화<br>\n",
    "    "
   ]
  },
  {
   "cell_type": "code",
   "execution_count": 262,
   "metadata": {},
   "outputs": [],
   "source": [
    "class People7:\n",
    "    def __init__(self):\n",
    "        print('생성자-객체 생성시 초기화 로직')\n",
    "    def __del__(self):\n",
    "        print('소멸자-자원반환 로직이 필요한 경우 개발')\n",
    "    def __pr__(self):\n",
    "        print('프린트를 합시다')"
   ]
  },
  {
   "cell_type": "code",
   "execution_count": 263,
   "metadata": {},
   "outputs": [
    {
     "name": "stdout",
     "output_type": "stream",
     "text": [
      "생성자-객체 생성시 초기화 로직\n"
     ]
    }
   ],
   "source": [
    "p7 = People7()"
   ]
  },
  {
   "cell_type": "code",
   "execution_count": 264,
   "metadata": {},
   "outputs": [
    {
     "name": "stdout",
     "output_type": "stream",
     "text": [
      "소멸자-자원반환 로직이 필요한 경우 개발\n"
     ]
    }
   ],
   "source": [
    "del p7"
   ]
  },
  {
   "cell_type": "code",
   "execution_count": 265,
   "metadata": {},
   "outputs": [
    {
     "ename": "SyntaxError",
     "evalue": "invalid syntax (<ipython-input-265-cc355b46b2ea>, line 1)",
     "output_type": "error",
     "traceback": [
      "\u001b[1;36m  File \u001b[1;32m\"<ipython-input-265-cc355b46b2ea>\"\u001b[1;36m, line \u001b[1;32m1\u001b[0m\n\u001b[1;33m    pr p7\u001b[0m\n\u001b[1;37m        ^\u001b[0m\n\u001b[1;31mSyntaxError\u001b[0m\u001b[1;31m:\u001b[0m invalid syntax\n"
     ]
    }
   ],
   "source": [
    "pr p7 # 이건 안됨"
   ]
  },
  {
   "cell_type": "markdown",
   "metadata": {},
   "source": [
    "# 특수 메소드\n",
    "1. r\"__init__\"<br>\n",
    "2. r\"__str__\""
   ]
  },
  {
   "cell_type": "code",
   "execution_count": 337,
   "metadata": {},
   "outputs": [
    {
     "name": "stdout",
     "output_type": "stream",
     "text": [
      "제목 Data Structure  저자 bookMan  페이지 200\n",
      "200\n"
     ]
    }
   ],
   "source": [
    "class Book:\n",
    "    def __init__(self,title,author,pages):\n",
    "        self.title = title\n",
    "        self.author = author\n",
    "        self.pages = pages\n",
    "           \n",
    "    def __str__(self):\n",
    "        return \"제목 %s  저자 %s  페이지 %s\"  % (self.title, self.author, self.pages)\n",
    "    \n",
    "    def __len__(self):\n",
    "        return self.pages\n",
    "    \n",
    "book = Book(\"Data Structure\",\"bookMan\",200)\n",
    "print(book)\n",
    "print(len(book))"
   ]
  },
  {
   "cell_type": "code",
   "execution_count": 267,
   "metadata": {},
   "outputs": [],
   "source": [
    "class SpecialMethod:\n",
    "    def __init__(self, x, y):\n",
    "        self.x = x\n",
    "        self.y = y\n",
    "    def __add__(self,addX):\n",
    "        return self.x + addX"
   ]
  },
  {
   "cell_type": "code",
   "execution_count": 333,
   "metadata": {},
   "outputs": [],
   "source": [
    "class SpecialMethod2:\n",
    "    def __init__(self, x, y):\n",
    "        self.x = x\n",
    "        self.y = y\n",
    "    def __add__(self,you):\n",
    "        return SpecialMethod2(self.x + you.x, self.y + you.y)\n",
    "    \n",
    "    def __eq__(self,you):\n",
    "        print('__eq__ 호출 확인')\n",
    "        return (self.x == you.x , self.y == you.y)\n",
    "       #return (self.x ==you.x and self.y == you.y)\n",
    "       #return (self.x ==you.x or self.y == you.y) \n",
    "    def __str__(self):\n",
    "        return '(%d,%d)' % (self.x,self.y)"
   ]
  },
  {
   "cell_type": "code",
   "execution_count": 334,
   "metadata": {},
   "outputs": [
    {
     "name": "stdout",
     "output_type": "stream",
     "text": [
      "(20,60)\n"
     ]
    }
   ],
   "source": [
    "s21=SpecialMethod2(10,20)\n",
    "s22=SpecialMethod2(10,40)\n",
    "v =  s21 + s22\n",
    "print(v)"
   ]
  },
  {
   "cell_type": "code",
   "execution_count": 335,
   "metadata": {},
   "outputs": [
    {
     "name": "stdout",
     "output_type": "stream",
     "text": [
      "__eq__ 호출 확인\n",
      "(True, False)\n"
     ]
    }
   ],
   "source": [
    "print(s21 == s22)"
   ]
  },
  {
   "cell_type": "code",
   "execution_count": 306,
   "metadata": {},
   "outputs": [
    {
     "name": "stdout",
     "output_type": "stream",
     "text": [
      "(0,0)\n"
     ]
    }
   ],
   "source": []
  },
  {
   "cell_type": "code",
   "execution_count": null,
   "metadata": {},
   "outputs": [],
   "source": []
  }
 ],
 "metadata": {
  "kernelspec": {
   "display_name": "Python 3",
   "language": "python",
   "name": "python3"
  },
  "language_info": {
   "codemirror_mode": {
    "name": "ipython",
    "version": 3
   },
   "file_extension": ".py",
   "mimetype": "text/x-python",
   "name": "python",
   "nbconvert_exporter": "python",
   "pygments_lexer": "ipython3",
   "version": "3.6.5"
  }
 },
 "nbformat": 4,
 "nbformat_minor": 2
}

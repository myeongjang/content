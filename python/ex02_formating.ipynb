{
 "cells": [
  {
   "cell_type": "markdown",
   "metadata": {},
   "source": [
    "# 파이썬 문자열 형식화\n",
    "\n",
    "- 파이썬에서는 복잡한 출려을 위한 문자열에 대한 형식화를 지원\n",
    "- % 기호를 사용\n",
    "- %s:문자열\n",
    "- %d :정수"
   ]
  },
  {
   "cell_type": "code",
   "execution_count": 1,
   "metadata": {},
   "outputs": [
    {
     "name": "stdout",
     "output_type": "stream",
     "text": [
      "encore %s\n"
     ]
    }
   ],
   "source": [
    "data1 = \"encore %s\" \n",
    "print(data1)"
   ]
  },
  {
   "cell_type": "code",
   "execution_count": 2,
   "metadata": {},
   "outputs": [
    {
     "name": "stdout",
     "output_type": "stream",
     "text": [
      "encore DA\n"
     ]
    }
   ],
   "source": [
    "data2 = data1 % 'DA'\n",
    "print(data2)"
   ]
  },
  {
   "cell_type": "code",
   "execution_count": 5,
   "metadata": {},
   "outputs": [
    {
     "name": "stdout",
     "output_type": "stream",
     "text": [
      "encore DA역사 50. 건물이 건축된 기간 2.500000 개월\n"
     ]
    }
   ],
   "source": [
    "data3 = data2 + '역사 %d. 건물이 건축된 기간 %f 개월' % (50,2.5)\n",
    "print(data3)"
   ]
  },
  {
   "cell_type": "code",
   "execution_count": null,
   "metadata": {},
   "outputs": [],
   "source": []
  }
 ],
 "metadata": {
  "kernelspec": {
   "display_name": "Python 3",
   "language": "python",
   "name": "python3"
  },
  "language_info": {
   "codemirror_mode": {
    "name": "ipython",
    "version": 3
   },
   "file_extension": ".py",
   "mimetype": "text/x-python",
   "name": "python",
   "nbconvert_exporter": "python",
   "pygments_lexer": "ipython3",
   "version": "3.6.5"
  }
 },
 "nbformat": 4,
 "nbformat_minor": 2
}

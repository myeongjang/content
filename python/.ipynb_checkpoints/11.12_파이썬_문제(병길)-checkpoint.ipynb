{
 "cells": [
  {
   "cell_type": "markdown",
   "metadata": {},
   "source": [
    "# 쉽고 간단한 파이썬 문제\n",
    "도큐먼트 링크: \n",
    "https://docs.python.org/ko/3.6/library/stdtypes.html#sequence-types-list-tuple-range\n",
    "\n",
    "##### 람다문제는 구글링 권장"
   ]
  },
  {
   "cell_type": "code",
   "execution_count": 2,
   "metadata": {},
   "outputs": [
    {
     "name": "stdout",
     "output_type": "stream",
     "text": [
      "['a', 'b', 'c', 'd', 'e']\n"
     ]
    }
   ],
   "source": [
    "#문제1-1 : list1 = ['a', 'c', 'd', 'b', 'e']라는 리스트를 list1 = ['a', 'b', 'c', 'd', 'e']로 정렬해보세요.\n",
    "list1 = ['a', 'c', 'd', 'b', 'e']\n",
    "list1.sort()\n",
    "print(list1)"
   ]
  },
  {
   "cell_type": "code",
   "execution_count": 3,
   "metadata": {},
   "outputs": [
    {
     "data": {
      "text/plain": [
       "['e', 'd', 'c', 'b', 'a']"
      ]
     },
     "execution_count": 3,
     "metadata": {},
     "output_type": "execute_result"
    }
   ],
   "source": [
    "#문제1-2 : list1 = ['a', 'c', 'd', 'b', 'e']라는 리스트를 list1 = ['e', 'd', 'c', 'b', 'a']로 정렬해보세요.\n",
    "list1 = ['a', 'c', 'd', 'b', 'e']\n",
    "list1.sort(reverse = True)\n",
    "list1"
   ]
  },
  {
   "cell_type": "code",
   "execution_count": 6,
   "metadata": {},
   "outputs": [
    {
     "name": "stdout",
     "output_type": "stream",
     "text": [
      "T\n"
     ]
    }
   ],
   "source": [
    "# 문제 1-3 : list타입의 변수를 sort()함수로 정렬할 경우 따로 저장하지 않아도 원본 데이터가 바뀐 상태로 저장된다?? (print T of F)\n",
    "print('T')"
   ]
  },
  {
   "cell_type": "code",
   "execution_count": 11,
   "metadata": {},
   "outputs": [
    {
     "name": "stdout",
     "output_type": "stream",
     "text": [
      "sorted()\n",
      "['a', 'b', 'c', 'd', 'e']\n",
      "['a', 'c', 'd', 'b', 'e']\n"
     ]
    }
   ],
   "source": [
    "# 문제 1-4 : 원본 데이터가 바뀌지 않은 상태로 정렬하고 싶을 때 쓰는 함수는 () 이다. (print(함수명))\n",
    "print('sorted()')\n",
    "\n",
    "# 문제 1-5 : 위 함수를 사용해 list1 = ['a', 'c', 'd', 'b', 'e']를 ['e', 'd', 'c', 'b', 'a']로 만들어보세요.\n",
    "list1 = ['a', 'c', 'd', 'b', 'e']\n",
    "a = sorted(list1)\n",
    "print(a)\n",
    "print(list1)"
   ]
  },
  {
   "cell_type": "code",
   "execution_count": 24,
   "metadata": {},
   "outputs": [
    {
     "name": "stdout",
     "output_type": "stream",
     "text": [
      "['c', 'd', 'b']\n"
     ]
    }
   ],
   "source": [
    "# 문제 2-1 : ['a', 'c', 'd', 'b', 'e'] 에서 각각 다른 삭제함수를 사용해 'a'와 'e'를 지워보세요.\n",
    "list1 = ['a', 'c', 'd', 'b', 'e']\n",
    "\n",
    "list1.remove('e')\n",
    "list1.pop(0)\n",
    "print(list1)"
   ]
  },
  {
   "cell_type": "code",
   "execution_count": 25,
   "metadata": {},
   "outputs": [
    {
     "name": "stdout",
     "output_type": "stream",
     "text": [
      "['c', 'd', 'b', 'mission', 'complete']\n"
     ]
    }
   ],
   "source": [
    "# 문제 2-2 : 위 문제의 결과값에 'missoin'과 'complete'를 추가하세요. (두 값을 한번에 넣는 연습 / append 사용 X / 힌트 : 연장)\n",
    "list2 = ['mission', 'complete']\n",
    "list1.extend(list2)\n",
    "print(list1)"
   ]
  },
  {
   "cell_type": "code",
   "execution_count": 36,
   "metadata": {},
   "outputs": [
    {
     "name": "stdout",
     "output_type": "stream",
     "text": [
      "lET THE gAME BEGIN.\n"
     ]
    }
   ],
   "source": [
    "# 문제 3-1 : 다음은 DA반 y모 학생이 좋아하는 영화 대사이다. 대문자와 소문자를 서로 바꾸어 y를 골탕 먹이자.  ('lET THE gAME BEGIN.')\n",
    "list2 = \"Let the Game begin.\"\n",
    "print(list2.swapcase())\n"
   ]
  },
  {
   "cell_type": "code",
   "execution_count": 40,
   "metadata": {},
   "outputs": [
    {
     "name": "stdout",
     "output_type": "stream",
     "text": [
      "Let The Game Begin.\n"
     ]
    }
   ],
   "source": [
    "# 문제 3-2 : 장난을 치다가 강사님한테 발각됐다. 문장을 원래대로 바꾸어 놓으라는 지시를 받았다. \n",
    "# 단어 첫 글자는 대문자, 나머지는 소문자로 바꾸어보자. ('Let The Game Begin.')\n",
    "print(list2.title())"
   ]
  },
  {
   "cell_type": "code",
   "execution_count": 42,
   "metadata": {},
   "outputs": [
    {
     "name": "stdout",
     "output_type": "stream",
     "text": [
      "{'A': 90, 'B': 80, 'C': 70, 'E': 50}\n"
     ]
    }
   ],
   "source": [
    "# 문제 4-1 : dict1 = {'A':90, 'B':80, 'C':70, 'D':60, 'E':50}에서 ‘D’의 key / value를 삭제해 보세요.\n",
    "dict1 = {'A':90, 'B':80, 'C':70, 'D':60, 'E':50}\n",
    "del dict1['D']\n",
    "print(dict1)"
   ]
  },
  {
   "cell_type": "code",
   "execution_count": 44,
   "metadata": {},
   "outputs": [
    {
     "name": "stdout",
     "output_type": "stream",
     "text": [
      "{'A': 90, 'B': 80, 'C': 70, 'E': 50, 'D': 60}\n"
     ]
    }
   ],
   "source": [
    "# 문제 4-2 : 삭제한 'D'의 value값을는 dic2에 넣어 만들어 보세요.\n",
    "dict1['D'] = 60\n",
    "print(dict1)"
   ]
  },
  {
   "cell_type": "code",
   "execution_count": 64,
   "metadata": {},
   "outputs": [
    {
     "name": "stdout",
     "output_type": "stream",
     "text": [
      "['Jangza', '@', 'encore.com']\n"
     ]
    }
   ],
   "source": [
    "# 문제 5 : 제시된 이메일에서 아이디와 이메일 도메인을 분리해 ('Jangza', '@', 'encore.com') 형태로 출력해 보세요.\n",
    "e = \"Jangza@encore.com\"\n",
    "list4 = e.split('@')\n",
    "list3 = e.split('@')\n",
    "list3[1] = '@'\n",
    "list3.append(list4[1])\n",
    "print(list3)"
   ]
  },
  {
   "cell_type": "markdown",
   "metadata": {},
   "source": [
    "# 람다 함수\n",
    "https://docs.python.org/ko/3.6/reference/expressions.html#lambda"
   ]
  },
  {
   "cell_type": "code",
   "execution_count": 70,
   "metadata": {},
   "outputs": [
    {
     "data": {
      "text/plain": [
       "True"
      ]
     },
     "execution_count": 70,
     "metadata": {},
     "output_type": "execute_result"
    }
   ],
   "source": [
    "# 문제 6 : 홀수일 경우 True 아닐 경우 False를 출력하는 lambda함수를 만들어 보세요.\n",
    "odd = lambda x : x%2 == 0\n",
    "odd(8)"
   ]
  },
  {
   "cell_type": "code",
   "execution_count": 71,
   "metadata": {},
   "outputs": [
    {
     "name": "stdout",
     "output_type": "stream",
     "text": [
      "1 번 문제 맞춤\n",
      "2 번 문제 맞춤\n",
      "3 번 문제 맞춤\n",
      "4 번 문제 맞춤\n",
      "5 번 문제 맞춤\n",
      "6 번 문제 맞춤\n",
      "7 번 문제 맞춤\n",
      "당신은 파이썬 고수\n"
     ]
    }
   ],
   "source": [
    "# 문제 7 : 앞서 풀었던 1 ~ 7개의 문제 중 정답/오답 여부를 출력하고,                             (x-x 번 문제중 하나라도 맞았다면 정답!)\n",
    "# 5개 이상 맞췄다면\" 고수\", 전부 맞았을 경우 \"마스터\"라는 칭호는 부여하세요.\n",
    "\n",
    "# 힌트 : list[] / for / if\n",
    "for i in range(1,8):\n",
    "    print(i,'번 문제 맞춤')\n",
    "print('당신은 파이썬 마스타')"
   ]
  },
  {
   "cell_type": "markdown",
   "metadata": {},
   "source": [
    "### 출력 예제\n",
    "1번 문제 틀림<br>\n",
    "2번 문제 맞춤<br>\n",
    "3번 문제 맞춤<br>\n",
    "4번 문제 맞춤<br>\n",
    "5번 문제 맞춤<br>\n",
    "6번 문제 맞춤<br>\n",
    "7번 문제 맞춤<br><br>\n",
    "당신은 파이썬 고수"
   ]
  },
  {
   "cell_type": "markdown",
   "metadata": {},
   "source": [
    "# 수고하셨습니다!!"
   ]
  }
 ],
 "metadata": {
  "kernelspec": {
   "display_name": "Python 3",
   "language": "python",
   "name": "python3"
  },
  "language_info": {
   "codemirror_mode": {
    "name": "ipython",
    "version": 3
   },
   "file_extension": ".py",
   "mimetype": "text/x-python",
   "name": "python",
   "nbconvert_exporter": "python",
   "pygments_lexer": "ipython3",
   "version": "3.6.5"
  }
 },
 "nbformat": 4,
 "nbformat_minor": 2
}

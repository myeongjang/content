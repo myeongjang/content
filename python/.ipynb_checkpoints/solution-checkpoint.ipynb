{
 "cells": [
  {
   "cell_type": "markdown",
   "metadata": {},
   "source": [
    "# 파이썬. 주말간 복습은 다들 하였겠지요~~?\n",
    "> 다음 시험은 총 10문항으로 이루어져 있으며 각각의 문항이 10점씩입니다<br>\n",
    "> 번호가 높아질수록 문항의 난이도가 있으니 참고하시기 바랍니다"
   ]
  },
  {
   "cell_type": "markdown",
   "metadata": {},
   "source": [
    "## 문제1 \n",
    "###### (1)(10점)\n",
    "> str이라는 변수에 \"python is number 1!\"이라는 변수를 대입한 후,<br>\n",
    "> 문자열 슬라이싱을 통해 number만 출력하여라\n",
    "###### (2)(10점)\n",
    "> str의 숫자 1을 문자열 슬라이싱으로 출력 한 후,<br> \n",
    "> 정수와 실수로 각각 형변환 하여 출력하라"
   ]
  },
  {
   "cell_type": "code",
   "execution_count": 1,
   "metadata": {},
   "outputs": [
    {
     "data": {
      "text/plain": [
       "'number'"
      ]
     },
     "execution_count": 1,
     "metadata": {},
     "output_type": "execute_result"
    }
   ],
   "source": [
    "# 1번 (1) 정답\n",
    "str= \"python is number 1!\"\n",
    "str[10:16]"
   ]
  },
  {
   "cell_type": "code",
   "execution_count": 2,
   "metadata": {},
   "outputs": [
    {
     "name": "stdout",
     "output_type": "stream",
     "text": [
      "1\n",
      "1.0\n"
     ]
    }
   ],
   "source": [
    "# 1번 (2) 정답\n",
    "print(int(str[-2]))\n",
    "print(float(str[-2]))"
   ]
  },
  {
   "cell_type": "markdown",
   "metadata": {},
   "source": [
    "## 문제2\n",
    "##### 이 문제는 str이라는 변수 하나만 사용하는 문제입니다\n",
    "###### (1)(10점)\n",
    "> str이라는 변수에 \"!#@$@%이 문구만 남기고 나머지는 지워주세요!?\"<br>\n",
    "> 라는 변수를 대입한 후, 필요없는 부분을 제거하여, 최종적으로<br>\n",
    "> \"이 문구만 남기고 나머지는 지워주세요\"를 출력하라\n",
    "###### (2)(10점)\n",
    "> 위의 수정된 문구를 띄어쓰기를 기준으로 나누어 리스트에 담고,<br>\n",
    "> 리스트 슬라이싱을 이용해 '나머지는 지워주세요'를 출력시켜라"
   ]
  },
  {
   "cell_type": "code",
   "execution_count": 3,
   "metadata": {},
   "outputs": [
    {
     "data": {
      "text/plain": [
       "'이 문구만 남기고 나머지는 지워주세요'"
      ]
     },
     "execution_count": 3,
     "metadata": {},
     "output_type": "execute_result"
    }
   ],
   "source": [
    "# 2번 (1)\n",
    "str=\"!#@$@%이 문구만 남기고 나머지는 지워주세요!?\"\n",
    "str.strip('!@#$%?')"
   ]
  },
  {
   "cell_type": "code",
   "execution_count": 4,
   "metadata": {},
   "outputs": [
    {
     "data": {
      "text/plain": [
       "'나머지는 지워주세요'"
      ]
     },
     "execution_count": 4,
     "metadata": {},
     "output_type": "execute_result"
    }
   ],
   "source": [
    "# 2번 (2)\n",
    "str.strip('!@#$%?').split(' ')[3]+\" \"+str.strip('!@#$%?').split(' ')[4]"
   ]
  },
  {
   "cell_type": "markdown",
   "metadata": {},
   "source": [
    "## 문제3\n",
    "> 다음 리스트에는 각 3개의 튜플이 있다. lambda를 이용하여 다음과 같이<br>\n",
    "순서가 다르게 출력되게 하라(10점)<br>\n",
    "\n",
    ">list1=[('apple',33,7),('banana',21,6),('cat',5,8)]<br>\n",
    "\n",
    ">출력<br>\n",
    "[('apple',33,7),('banana',21,6),('cat',5,8)]<br>\n",
    "[('cat',5,8),('banana',21,6),('apple',33,7)]<br>\n",
    "[('banana',21,6),('apple',33,7),('cat',5,8)]"
   ]
  },
  {
   "cell_type": "code",
   "execution_count": 5,
   "metadata": {},
   "outputs": [
    {
     "name": "stdout",
     "output_type": "stream",
     "text": [
      "[('apple', 33, 7), ('banana', 21, 6), ('cat', 5, 8)]\n",
      "[('cat', 5, 8), ('banana', 21, 6), ('apple', 33, 7)]\n",
      "[('banana', 21, 6), ('apple', 33, 7), ('cat', 5, 8)]\n"
     ]
    }
   ],
   "source": [
    "list1=[('apple',33,7),('banana',21,6),('cat',5,8)]\n",
    "list1.sort(key=lambda v:v[0])\n",
    "print(list1)\n",
    "list1.sort(key=lambda v:v[1])\n",
    "print(list1)\n",
    "list1.sort(key=lambda v:v[2])\n",
    "print(list1)"
   ]
  },
  {
   "cell_type": "markdown",
   "metadata": {},
   "source": [
    "## 문제4\n",
    "##### 정수인 반지름의 값을 입력받으면 원의 넓이가 출력되는 코드를 작성하시오(10점)\n",
    "> * pi=3.141592 로 계산한다<br>\n",
    "> ex)<br>\n",
    "5 <-사용자가 입력한 값<br>\n",
    "5x5x3.141592 = 78.539800\n"
   ]
  },
  {
   "cell_type": "code",
   "execution_count": 1,
   "metadata": {},
   "outputs": [
    {
     "name": "stdout",
     "output_type": "stream",
     "text": [
      "5\n",
      "5x5x3.141592 = 78.539800\n"
     ]
    }
   ],
   "source": [
    "# 4번\n",
    "radius = int(input())\n",
    "pi = 3.141592\n",
    "circle = radius * radius * pi\n",
    "print(\"%dx%dx%f = %f\" % (radius, radius, pi, circle))"
   ]
  },
  {
   "cell_type": "markdown",
   "metadata": {},
   "source": [
    "## 문제5\n",
    "> 사용자가 입력한 6개의 값을 원소로 갖는 리스트 list1이 있다. 이 리스트를 수의 크기에 따라 내림차순 정렬하고,<br> \n",
    "각 성분의 바로 오른쪽 값과의 차를 원소로하는 리스트를 출력하라(10점)\n",
    "\n",
    "> ex)<br>\n",
    "1,13,2,5,7,11 <-사용자가 입력한 값<br>\n",
    "[13,11,7,5,2,1] <-내림차순으로 정렬시킨 후<br>\n",
    "[2,4,2,3,1] <- 출력값"
   ]
  },
  {
   "cell_type": "code",
   "execution_count": 7,
   "metadata": {},
   "outputs": [
    {
     "name": "stdout",
     "output_type": "stream",
     "text": [
      "1\n",
      "13\n",
      "2\n",
      "5\n",
      "7\n",
      "11\n"
     ]
    },
    {
     "data": {
      "text/plain": [
       "[2, 4, 2, 3, 1]"
      ]
     },
     "execution_count": 7,
     "metadata": {},
     "output_type": "execute_result"
    }
   ],
   "source": [
    "list1=[int(input()),int(input()),int(input()),int(input()),int(input()),int(input())]\n",
    "list1.sort(reverse=True)\n",
    "list2=list1\n",
    "list3=[]\n",
    "for i in range(len(list1)-1):\n",
    "    a=list2[i]-list2[i+1]\n",
    "    list3.append(a)\n",
    "list3"
   ]
  },
  {
   "cell_type": "markdown",
   "metadata": {},
   "source": [
    "## 문제6\n",
    "###### 1~9사이의 숫자를 사용자로부터 입력받아 해당하는 숫자의 구구단을 출력하라(10점)\n",
    "> ex)1~9사이의 숫자를 입력하세요:5  <-사용자가 입력한 값<br>\n",
    "> 5 x 1 = 5<br>\n",
    "> 5 x 2 = 10<br>\n",
    "> 5 x 3 = 15<br>\n",
    "> 5 x 4 = 20<br>\n",
    "> 5 x 5 = 25<br>\n",
    "> 5 x 6 = 30<br>\n",
    "> 5 x 7 = 35<br>\n",
    "> 5 x 8 = 40<br>\n",
    "> 5 x 9 = 45<br>"
   ]
  },
  {
   "cell_type": "code",
   "execution_count": 8,
   "metadata": {},
   "outputs": [
    {
     "name": "stdout",
     "output_type": "stream",
     "text": [
      "1~9사이의 숫자를 입력하세요:5\n",
      "5 x 1 = 5\n",
      "5 x 2 = 10\n",
      "5 x 3 = 15\n",
      "5 x 4 = 20\n",
      "5 x 5 = 25\n",
      "5 x 6 = 30\n",
      "5 x 7 = 35\n",
      "5 x 8 = 40\n",
      "5 x 9 = 45\n"
     ]
    }
   ],
   "source": [
    "# 3번\n",
    "a=int(input(\"1~9사이의 숫자를 입력하세요:\"))\n",
    "for i in range(9):\n",
    "    print(a,\"x\",i+1,\"=\",a*(i+1))"
   ]
  },
  {
   "cell_type": "markdown",
   "metadata": {},
   "source": [
    "## 문제7\n",
    "###### 다음 부등식을 만족하는 a,b,c의 순서쌍을 comprehension을 이용해 출력하시오.(단 , a,b,c는 1~5사이의 자연수)\n",
    "##### (부등식은 사진파일 하나가 첨부되어있으니 참고하시기 바랍니다)(10점)\n",
    "> ex)\n",
    "[(1, 1, 1), (1, 1, 2), (1, 1, 3), (1, 1, 4), (1, 1, 5), (1, 2, 1), (1, 2, 2), (1, 2, 3), (1, 2, 4), (1, 2, 5), (1, 3, 1), (1, 3, 2), (1, 3, 3), (1, 3, 4), (1, 3, 5), (1, 4, 1), (1, 4, 2), (1, 4, 3), (1, 4, 4), (1, 4, 5), (1, 5, 1), (1, 5, 2), (1, 5, 3), (1, 5, 4), (1, 5, 5), (2, 1, 1), (2, 1, 2), (2, 1, 3), (2, 1, 4), (2, 1, 5), (2, 2, 1), (2, 2, 2), (2, 2, 3), (2, 2, 4), (2, 2, 5), (2, 3, 1), (2, 3, 2), (2, 3, 3), (2, 3, 4), (2, 3, 5), (2, 4, 1), (2, 4, 2), (2, 4, 3), (2, 4, 4), (2, 4, 5), (2, 5, 1), (2, 5, 2), (2, 5, 3), (2, 5, 4), (2, 5, 5), (3, 1, 1), (3, 1, 2), (3, 1, 3), (3, 1, 4), (3, 1, 5), (3, 2, 1), (3, 2, 2), (3, 2, 3), (3, 2, 4), (3, 2, 5), (3, 3, 1), (3, 3, 2), (3, 3, 3), (3, 3, 4), (3, 3, 5), (3, 4, 1), (3, 4, 2), (3, 4, 3), (3, 4, 4), (3, 4, 5), (3, 5, 1), (3, 5, 2), (3, 5, 3), (3, 5, 4), (3, 5, 5), (4, 1, 1), (4, 1, 2), (4, 1, 3), (4, 1, 4), (4, 1, 5), (4, 2, 1), (4, 2, 2), (4, 2, 3), (4, 2, 4), (4, 2, 5), (4, 3, 1), (4, 3, 2), (4, 3, 3), (4, 3, 4), (4, 3, 5), (4, 4, 1), (4, 4, 2), (4, 4, 3), (4, 4, 4), (4, 4, 5), (4, 5, 1), (4, 5, 2), (4, 5, 3), (4, 5, 4), (4, 5, 5), (5, 1, 1), (5, 1, 2), (5, 1, 3), (5, 1, 4), (5, 1, 5), (5, 2, 1), (5, 2, 2), (5, 2, 3), (5, 2, 4), (5, 2, 5), (5, 3, 1), (5, 3, 2), (5, 3, 3), (5, 3, 4), (5, 3, 5), (5, 4, 1), (5, 4, 2), (5, 4, 3), (5, 4, 4), (5, 4, 5), (5, 5, 1), (5, 5, 2), (5, 5, 3), (5, 5, 4), (5, 5, 5)]\n",
    "\n"
   ]
  },
  {
   "cell_type": "code",
   "execution_count": 14,
   "metadata": {},
   "outputs": [
    {
     "name": "stdout",
     "output_type": "stream",
     "text": [
      "[(1, 1, 1), (1, 1, 2), (1, 1, 3), (1, 1, 4), (1, 1, 5), (1, 2, 1), (1, 2, 2), (1, 2, 3), (1, 2, 4), (1, 2, 5), (1, 3, 1), (1, 3, 2), (1, 3, 3), (1, 3, 4), (1, 3, 5), (1, 4, 1), (1, 4, 2), (1, 4, 3), (1, 4, 4), (1, 4, 5), (1, 5, 1), (1, 5, 2), (1, 5, 3), (1, 5, 4), (1, 5, 5), (2, 1, 1), (2, 1, 2), (2, 1, 3), (2, 1, 4), (2, 1, 5), (2, 2, 1), (2, 2, 2), (2, 2, 3), (2, 2, 4), (2, 2, 5), (2, 3, 1), (2, 3, 2), (2, 3, 3), (2, 3, 4), (2, 3, 5), (2, 4, 1), (2, 4, 2), (2, 4, 3), (2, 4, 4), (2, 4, 5), (2, 5, 1), (2, 5, 2), (2, 5, 3), (2, 5, 4), (2, 5, 5), (3, 1, 1), (3, 1, 2), (3, 1, 3), (3, 1, 4), (3, 1, 5), (3, 2, 1), (3, 2, 2), (3, 2, 3), (3, 2, 4), (3, 2, 5), (3, 3, 1), (3, 3, 2), (3, 3, 3), (3, 3, 4), (3, 3, 5), (3, 4, 1), (3, 4, 2), (3, 4, 3), (3, 4, 4), (3, 4, 5), (3, 5, 1), (3, 5, 2), (3, 5, 3), (3, 5, 4), (3, 5, 5), (4, 1, 1), (4, 1, 2), (4, 1, 3), (4, 1, 4), (4, 1, 5), (4, 2, 1), (4, 2, 2), (4, 2, 3), (4, 2, 4), (4, 2, 5), (4, 3, 1), (4, 3, 2), (4, 3, 3), (4, 3, 4), (4, 3, 5), (4, 4, 1), (4, 4, 2), (4, 4, 3), (4, 4, 4), (4, 4, 5), (4, 5, 1), (4, 5, 2), (4, 5, 3), (4, 5, 4), (4, 5, 5), (5, 1, 1), (5, 1, 2), (5, 1, 3), (5, 1, 4), (5, 1, 5), (5, 2, 1), (5, 2, 2), (5, 2, 3), (5, 2, 4), (5, 2, 5), (5, 3, 1), (5, 3, 2), (5, 3, 3), (5, 3, 4), (5, 3, 5), (5, 4, 1), (5, 4, 2), (5, 4, 3), (5, 4, 4), (5, 4, 5), (5, 5, 1), (5, 5, 2), (5, 5, 3), (5, 5, 4), (5, 5, 5)]\n"
     ]
    }
   ],
   "source": [
    "a=[(a,b,c) for a in range(1, 6, 1) for b in range(1, 6, 1) for c in range(1, 6, 1) if a*a/c+b*b/a+c*c/b>=a+b+c]\n",
    "print(a)"
   ]
  },
  {
   "cell_type": "markdown",
   "metadata": {},
   "source": [
    "## 문제8(난이도 상)\n",
    "###### 5행 5열의 빙고게임을 구현하시오(10점)\n",
    "다음과 같은 빙고 리스트가 있다. 다음 코드의 맨 마지막 부족한 코드를 완성하라<br>\n",
    ">bingolist = [[1,2,3,4,5], [6,7,8,9,10],[11,12,13,14,15],[16,17,18,19,20],[21,22,23,24,25]]<br>\n",
    "사용자로부터 1~25사이의 정수를 입력받아서 가로,세로 대각선 중 하나의 선이 연결되면, <br>\"BINGO\"를 출력하고 게임을 종료시켜라<br>\n",
    "\n",
    "> ex) 1,2,3,4,5 입력<br>\n",
    "BINGO <-가로가 빙고이기 때문에 출력<br>\n",
    "1,6,11,16,21 입력<br>\n",
    "BINGO <-가로가 빙고이기 때문에 출력<br>\n",
    "1,7,13,19,25 입력<br>\n",
    "BINGO <-대각선 빙고이기 때문에 출력"
   ]
  },
  {
   "cell_type": "code",
   "execution_count": null,
   "metadata": {},
   "outputs": [],
   "source": [
    "bingolist = [[1,2,3,4,5], [6,7,8,9,10],[11,12,13,14,15],[16,17,18,19,20],[21,22,23,24,25]]\n",
    "bingo = 0\n",
    "redundantlist = []\n",
    "\n",
    "while (bingo != 1) :\n",
    "    row_flag = 0\n",
    "    col_flag = 0\n",
    "    cross_left_flag = 0\n",
    "    cross_right_flag = 0\n",
    "    \n",
    "usernum = int(input())\n",
    " \n",
    "if usernum <= 0 or usernum > 25 :\n",
    "    print(\"잘못된 숫자입니다!\") # 0보다작거나 25보다큰 숫자가 입력되면 숫자가 잘못되었다고 출력\n",
    "    continue\n",
    "elif redundantlist.count(usernum) > 0 :\n",
    "    print(\"숫자가 중복되었습니다.\") # count()를 활용해 같은 숫자가들어왔을때 숫자가 중복되었다고 출력\n",
    "else :\n",
    "    redundantlist.append(usernum)\n",
    "    for i in range(0, 5, 1) :\n",
    "        for j in range(0, 5, 1) :\n",
    "            if usernum == bingolist[i][j] :\n",
    "                bingolist[i][j] = 0 # 사용자가 입력한 숫자가 빙고판위에있다면, 빙고판 숫자를 0으로 바꿔줌\n",
    "    for i in range(0, 5, 1) :\n",
    "        row_flag = 0\n",
    "        col_flag = 0\n",
    "        for j in range(0, 5, 1) :\n",
    "            if bingolist[i][j] == 0 : #i행j열 성분에 0인값이 몇개인지에 따라 row_flag의 갯수를 증가시켜준다\n",
    "                row_flag += 1\n",
    "            if bingolist[j][i] == 0 :#j행i열 성분에 0인값이 몇개인지에 따라 col_flag의 갯수를 증가시켜준다\n",
    "                col_flag += 1\n",
    "        if row_flag == 5 or col_flag == 5 :\n",
    "            bingo = 1\n",
    "            break\n",
    "        if bingolist[i][i] == 0 :\n",
    "            cross_left_flag += 1\n",
    "        if bingolist[5-1-i][i] == 0 :\n",
    "            cross_right_flag += 1\n",
    "    if cross_left_flag == 5 or cross_right_flag == 5 :\n",
    "        bingo = 1\n",
    "        break\n",
    "print(\"Bingo\")"
   ]
  },
  {
   "cell_type": "code",
   "execution_count": null,
   "metadata": {},
   "outputs": [],
   "source": []
  }
 ],
 "metadata": {
  "kernelspec": {
   "display_name": "Python 3",
   "language": "python",
   "name": "python3"
  },
  "language_info": {
   "codemirror_mode": {
    "name": "ipython",
    "version": 3
   },
   "file_extension": ".py",
   "mimetype": "text/x-python",
   "name": "python",
   "nbconvert_exporter": "python",
   "pygments_lexer": "ipython3",
   "version": "3.6.5"
  }
 },
 "nbformat": 4,
 "nbformat_minor": 2
}

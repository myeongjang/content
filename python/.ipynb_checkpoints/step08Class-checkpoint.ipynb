{
 "cells": [
  {
   "cell_type": "markdown",
   "metadata": {},
   "source": [
    "# 사용자 정의 파이썬 클래스 개발 방법 학습\n",
    "1. 주요 키워드 및 기호 : self\n",
    "- 자바와 비교사 : 데이터 표현 전용 구조의 클래스 "
   ]
  },
  {
   "cell_type": "code",
   "execution_count": 1,
   "metadata": {},
   "outputs": [],
   "source": [
    "class MyClass2:\n",
    "    def set(self,v):\n",
    "        self.value = v\n",
    "    \n",
    "    def get(self):\n",
    "        return self.value\n",
    "    \n",
    "    def incr(self):\n",
    "        self.value += 1\n",
    "        return get()\n",
    "    \n"
   ]
  },
  {
   "cell_type": "code",
   "execution_count": null,
   "metadata": {},
   "outputs": [],
   "source": [
    "class Book:\n",
    "    def __init__(self, title, author, pages):\n",
    "        self.title = title\n",
    "        self.author = author\n",
    "        self.pages"
   ]
  },
  {
   "cell_type": "code",
   "execution_count": 34,
   "metadata": {},
   "outputs": [],
   "source": [
    "class UserClass:\n",
    "    # 생성자\n",
    "    def __init__(self,data):\n",
    "        self.instanceVar = data\n",
    "        print('생성장')\n",
    "        \n",
    "    #멤버 변수값 반환 하는 메소드\n",
    "    def getinstanceVar(self):\n",
    "        return self.instanceVar\n",
    "def getinstanceVar2():\n",
    "    return 'data'"
   ]
  },
  {
   "cell_type": "code",
   "execution_count": 35,
   "metadata": {},
   "outputs": [
    {
     "name": "stdout",
     "output_type": "stream",
     "text": [
      "생성장\n"
     ]
    },
    {
     "data": {
      "text/plain": [
       "'변수'"
      ]
     },
     "execution_count": 35,
     "metadata": {},
     "output_type": "execute_result"
    }
   ],
   "source": [
    "i1 = UserClass('변수')\n",
    "data = i1.getinstanceVar()\n",
    "data"
   ]
  },
  {
   "cell_type": "code",
   "execution_count": 36,
   "metadata": {},
   "outputs": [
    {
     "data": {
      "text/plain": [
       "'data'"
      ]
     },
     "execution_count": 36,
     "metadata": {},
     "output_type": "execute_result"
    }
   ],
   "source": [
    "data2 = getinstanceVar2()\n",
    "data2"
   ]
  },
  {
   "cell_type": "code",
   "execution_count": 73,
   "metadata": {},
   "outputs": [],
   "source": [
    "class Person:\n",
    "    def __init__(self,name='haha',age = 20):\n",
    "        self.name = name\n",
    "        self.age = age\n",
    "    def getname(self):\n",
    "        return self.name\n",
    "    def setname(self,Name):\n",
    "        self.name = Name\n",
    "    def getage(self):\n",
    "        return self.age\n",
    "    def setAge(self,Age):\n",
    "        self.age = Age"
   ]
  },
  {
   "cell_type": "code",
   "execution_count": 60,
   "metadata": {},
   "outputs": [],
   "source": [
    "jacob = Person('jake')\n",
    "jacob.getname()\n",
    "jacob.setname('yark')"
   ]
  },
  {
   "cell_type": "code",
   "execution_count": 61,
   "metadata": {},
   "outputs": [
    {
     "data": {
      "text/plain": [
       "'yark'"
      ]
     },
     "execution_count": 61,
     "metadata": {},
     "output_type": "execute_result"
    }
   ],
   "source": [
    "jacob.getname()"
   ]
  },
  {
   "cell_type": "code",
   "execution_count": 62,
   "metadata": {},
   "outputs": [],
   "source": [
    "jacob.setname('yo')"
   ]
  },
  {
   "cell_type": "code",
   "execution_count": 63,
   "metadata": {},
   "outputs": [
    {
     "data": {
      "text/plain": [
       "'yo'"
      ]
     },
     "execution_count": 63,
     "metadata": {},
     "output_type": "execute_result"
    }
   ],
   "source": [
    "jacob.getname()"
   ]
  },
  {
   "cell_type": "code",
   "execution_count": 76,
   "metadata": {},
   "outputs": [],
   "source": [
    "yo = Person()"
   ]
  },
  {
   "cell_type": "code",
   "execution_count": 77,
   "metadata": {},
   "outputs": [
    {
     "data": {
      "text/plain": [
       "'haha'"
      ]
     },
     "execution_count": 77,
     "metadata": {},
     "output_type": "execute_result"
    }
   ],
   "source": [
    "yo.getname()"
   ]
  },
  {
   "cell_type": "code",
   "execution_count": 78,
   "metadata": {},
   "outputs": [
    {
     "data": {
      "text/plain": [
       "20"
      ]
     },
     "execution_count": 78,
     "metadata": {},
     "output_type": "execute_result"
    }
   ],
   "source": [
    "yo.getage()"
   ]
  },
  {
   "cell_type": "code",
   "execution_count": 79,
   "metadata": {},
   "outputs": [],
   "source": [
    "class Person1:\n",
    "    def __init__(self):\n",
    "        self.name = 'hhh'"
   ]
  },
  {
   "cell_type": "code",
   "execution_count": 85,
   "metadata": {},
   "outputs": [],
   "source": [
    "p = Person1()"
   ]
  },
  {
   "cell_type": "code",
   "execution_count": 86,
   "metadata": {},
   "outputs": [],
   "source": [
    "p.name = 'jaja'"
   ]
  },
  {
   "cell_type": "code",
   "execution_count": 87,
   "metadata": {},
   "outputs": [
    {
     "name": "stdout",
     "output_type": "stream",
     "text": [
      "jaja\n"
     ]
    }
   ],
   "source": [
    "print(p.name)"
   ]
  },
  {
   "cell_type": "code",
   "execution_count": 110,
   "metadata": {},
   "outputs": [
    {
     "name": "stdout",
     "output_type": "stream",
     "text": [
      "<class 'numpy.ndarray'>\n",
      "0.0\n"
     ]
    }
   ],
   "source": [
    "import numpy as np \n",
    "a = np.zeros((2,3))\n",
    "print(type(a))\n",
    "print(a[0][2])"
   ]
  },
  {
   "cell_type": "code",
   "execution_count": 229,
   "metadata": {},
   "outputs": [],
   "source": [
    "\"\"\"\n",
    "벡터값 구하는 클래스를 만든다\n",
    "\"\"\"\n",
    "import numpy as np\n",
    "\n",
    "class Vector:\n",
    "    def __init__(self,x,y,result = np.zeros((2,2))):\n",
    "        self.x = x\n",
    "        self.y = y\n",
    "    def getVector(self):\n",
    "        result = np.zeros((len(self.x),len(self.y[0])))\n",
    "        for i in range(len(self.x)):\n",
    "            for j in range(len(self.y[0])):\n",
    "                for k in range(len(self.y)):\n",
    "                    result[i][j] += self.x[i][k] * self.y[k][j]\n",
    "        print(result)"
   ]
  },
  {
   "cell_type": "code",
   "execution_count": 230,
   "metadata": {},
   "outputs": [
    {
     "name": "stdout",
     "output_type": "stream",
     "text": [
      "3\n"
     ]
    }
   ],
   "source": [
    "X = [[1, 2, 3],\n",
    "     [4 ,5, 6],\n",
    "     [5, 2, 3],\n",
    "     [8, 4, 6]]\n",
    "Y = [[1, 2,4],\n",
    "     [3 ,4,6],\n",
    "     [5 ,6,7]]\n",
    "v = Vector(X,Y)\n",
    "print(len(Y[0]))"
   ]
  },
  {
   "cell_type": "code",
   "execution_count": 231,
   "metadata": {},
   "outputs": [
    {
     "name": "stdout",
     "output_type": "stream",
     "text": [
      "[[22. 28. 37.]\n",
      " [49. 64. 88.]\n",
      " [26. 36. 53.]\n",
      " [50. 68. 98.]]\n"
     ]
    }
   ],
   "source": [
    "v.getVector()"
   ]
  },
  {
   "cell_type": "code",
   "execution_count": 168,
   "metadata": {},
   "outputs": [
    {
     "name": "stdout",
     "output_type": "stream",
     "text": [
      "도기:멍멍\n",
      "도기:헥헥\n"
     ]
    }
   ],
   "source": [
    "class Dog:\n",
    "    name = \"\"\n",
    "    age = 0\n",
    "    color = \"\"\n",
    "    bread = \"\"\n",
    "    \n",
    "    def __init__(self,name,age,color,bread):\n",
    "        self.name = name\n",
    "        self.age = age\n",
    "        self.color = color\n",
    "        self.bread = bread\n",
    "    def run(self):\n",
    "        print((self.name) + \":헥헥\")\n",
    "        \n",
    "    def bark(self):\n",
    "        print((self.name) + \":멍멍\")\n",
    "        \n",
    "s = Dog(\"도기\", 10, \"말티즈\", \"하얀색\")\n",
    "s.bark()\n",
    "s.run()"
   ]
  },
  {
   "cell_type": "markdown",
   "metadata": {},
   "source": [
    "# class 변수\n",
    "1. class 변수란? class 내에 선언되는 변수, 생성되는 "
   ]
  },
  {
   "cell_type": "code",
   "execution_count": 252,
   "metadata": {},
   "outputs": [],
   "source": [
    "class People:\n",
    "    no = 0 # class 멤버 변수\n",
    "    def __init__(self, age = 1):\n",
    "        People.no += 3\n",
    "        self.age = age #instance 멤버 변수\n",
    "        "
   ]
  },
  {
   "cell_type": "code",
   "execution_count": 255,
   "metadata": {},
   "outputs": [
    {
     "name": "stdout",
     "output_type": "stream",
     "text": [
      "15\n",
      "18\n"
     ]
    }
   ],
   "source": [
    "p11 = People()\n",
    "print(p11.no)\n",
    "p12 = People()\n",
    "print(p11.no)"
   ]
  },
  {
   "cell_type": "code",
   "execution_count": null,
   "metadata": {},
   "outputs": [],
   "source": []
  }
 ],
 "metadata": {
  "kernelspec": {
   "display_name": "Python 3",
   "language": "python",
   "name": "python3"
  },
  "language_info": {
   "codemirror_mode": {
    "name": "ipython",
    "version": 3
   },
   "file_extension": ".py",
   "mimetype": "text/x-python",
   "name": "python",
   "nbconvert_exporter": "python",
   "pygments_lexer": "ipython3",
   "version": "3.6.5"
  }
 },
 "nbformat": 4,
 "nbformat_minor": 2
}

{
 "cells": [
  {
   "cell_type": "markdown",
   "metadata": {},
   "source": [
    "# 05. 함수 구현의 다양한 문법 \n",
    "\n",
    "1. 인수(argument) - 호출 프로그램에 의하여 함수에 전달되는 값\n",
    "- 매개변수(parmeter) - 인수값을 전달받는 변수\n",
    "\n",
    "--------------------------------------------------------\n",
    "\n",
    "1.  디폴트 인수 : 함수의 매개 변수가 기본값 보유\n",
    "- 키워드 인수 : 인수들 앞에 키워드를 두어 인수 구분\n",
    "- 임의의 인수 목록 : 인자의 개수가 정해지지 않은 가변 인수를 전달\n",
    "- 람다 함수 : 이름이 없는 한줄짜리 함수"
   ]
  },
  {
   "cell_type": "markdown",
   "metadata": {},
   "source": [
    "### 1. 디폴트 인수"
   ]
  },
  {
   "cell_type": "code",
   "execution_count": 1,
   "metadata": {},
   "outputs": [],
   "source": [
    "# 매개변수 기본 초기화 값 활용하는 함수\n",
    "# 호출 : 함수명 (값1), 함수명(값1,값2)\n",
    "def func1(name, age = 46):\n",
    "    print(name, ' ', age)"
   ]
  },
  {
   "cell_type": "code",
   "execution_count": 2,
   "metadata": {},
   "outputs": [
    {
     "name": "stdout",
     "output_type": "stream",
     "text": [
      "영선   46\n"
     ]
    }
   ],
   "source": [
    "func1(\"영선\")"
   ]
  },
  {
   "cell_type": "code",
   "execution_count": 3,
   "metadata": {},
   "outputs": [
    {
     "name": "stdout",
     "output_type": "stream",
     "text": [
      "영선   20\n"
     ]
    }
   ],
   "source": [
    "func1(\"영선\", 20)"
   ]
  },
  {
   "cell_type": "code",
   "execution_count": 4,
   "metadata": {},
   "outputs": [
    {
     "name": "stdout",
     "output_type": "stream",
     "text": [
      "30   46\n"
     ]
    }
   ],
   "source": [
    "func1(30)"
   ]
  },
  {
   "cell_type": "markdown",
   "metadata": {},
   "source": [
    "### 2. 키워드 인수"
   ]
  },
  {
   "cell_type": "code",
   "execution_count": null,
   "metadata": {},
   "outputs": [],
   "source": [
    "def func2(x,y,z):\n",
    "    return x+y+z"
   ]
  },
  {
   "cell_type": "code",
   "execution_count": null,
   "metadata": {},
   "outputs": [],
   "source": [
    "func2(10,20,30)"
   ]
  },
  {
   "cell_type": "code",
   "execution_count": null,
   "metadata": {},
   "outputs": [],
   "source": [
    "func2(x=10,y=20,z=30)"
   ]
  },
  {
   "cell_type": "code",
   "execution_count": null,
   "metadata": {},
   "outputs": [],
   "source": [
    "func2(z=20, y=10, x=20)"
   ]
  },
  {
   "cell_type": "markdown",
   "metadata": {},
   "source": [
    "### 3. 임의의 인수\n",
    "\n",
    "- *를 사용할 경우 인수는 튜퓰 형식\n",
    "- 가변인자 활용"
   ]
  },
  {
   "cell_type": "code",
   "execution_count": null,
   "metadata": {},
   "outputs": [],
   "source": [
    "def func3(*args, sep='-'):\n",
    "    return sep.join(args)\n",
    "\n",
    "func3('a','b')"
   ]
  },
  {
   "cell_type": "code",
   "execution_count": null,
   "metadata": {},
   "outputs": [],
   "source": [
    "func3('a','b','c')"
   ]
  },
  {
   "cell_type": "markdown",
   "metadata": {},
   "source": [
    "## Lab1\n",
    "일회용 패스워드 생성기를 이용하여서 3개의 패스워드를 생성하여 출력하는 프로그램을 작성해 보기.\n",
    "\n",
    "출력 예시 : \n",
    "    \n",
    "ouuc4c <br>\n",
    "uuahtp <br>\n",
    "79s6oz <br>"
   ]
  },
  {
   "cell_type": "code",
   "execution_count": null,
   "metadata": {},
   "outputs": [],
   "source": [
    "'''\n",
    "java에서 외부 package 활용 문장 : import\n",
    "python도 외부 library 활용 문장 : import\n",
    "'''\n",
    "import random\n",
    "\n",
    "\n",
    "\n",
    "def passwd():   \n",
    "    word = \"abcdefghijklmnopqrstuvwxyz1234567890\"\n",
    "    password = \"\"\n",
    "    for i in range(0,6):\n",
    "        token = random.choice(word)\n",
    "        password = password + token\n",
    "    return password\n",
    "\n",
    "print(passwd())\n",
    "print(passwd())\n",
    "print(passwd())"
   ]
  },
  {
   "cell_type": "markdown",
   "metadata": {},
   "source": [
    "### 4. 람다 함수\n",
    "1. 매개변수 제한이 없음\n",
    "- 함수의 변환, 변수의 데이터 값으로 사용 가능\n",
    "- list.sort의 key 속성의 값으로도 사용가능(실전 응용)"
   ]
  },
  {
   "cell_type": "code",
   "execution_count": null,
   "metadata": {},
   "outputs": [],
   "source": [
    "def sum(n):\n",
    "    return lambda x :x+n\n"
   ]
  },
  {
   "cell_type": "code",
   "execution_count": null,
   "metadata": {},
   "outputs": [],
   "source": [
    "# f2 = lambda x : x+10으로 반환된 구조\n",
    "\n",
    "f2 = sum(10)\n",
    "f2"
   ]
  },
  {
   "cell_type": "code",
   "execution_count": null,
   "metadata": {},
   "outputs": [],
   "source": [
    "f2(100)"
   ]
  },
  {
   "cell_type": "code",
   "execution_count": null,
   "metadata": {},
   "outputs": [],
   "source": [
    "f3 = lambda x : x**2\n",
    "f3(2)"
   ]
  },
  {
   "cell_type": "code",
   "execution_count": null,
   "metadata": {},
   "outputs": [],
   "source": [
    "f4 = lambda x,y,z : 2*x + 3*y + 4*z"
   ]
  },
  {
   "cell_type": "code",
   "execution_count": null,
   "metadata": {},
   "outputs": [],
   "source": [
    "f4()"
   ]
  },
  {
   "cell_type": "code",
   "execution_count": null,
   "metadata": {},
   "outputs": [],
   "source": [
    "#? f4 호출해보기\n",
    "f4(1,2,3)"
   ]
  },
  {
   "cell_type": "code",
   "execution_count": null,
   "metadata": {},
   "outputs": [],
   "source": [
    "# f5라는 f4와 동일한 로직의 일반 함수 개발하기\n",
    "def f5(x,y,z):\n",
    "    print(2*x + 3*y + 4*z)\n",
    "    \n",
    "f5(1,2,3)"
   ]
  },
  {
   "cell_type": "code",
   "execution_count": null,
   "metadata": {},
   "outputs": [],
   "source": [
    "mylist = [1,5,3,9,8,4,2]\n",
    "mylist.sort()\n",
    "mylist"
   ]
  },
  {
   "cell_type": "code",
   "execution_count": null,
   "metadata": {},
   "outputs": [],
   "source": [
    "mylist = [1,5,3,9,8,4,2]\n",
    "mylist.sort(reverse=True)\n",
    "mylist"
   ]
  },
  {
   "cell_type": "code",
   "execution_count": null,
   "metadata": {},
   "outputs": [],
   "source": [
    "mylist = [1,5,3,9,8,4,2]\n",
    "mylist.sort(key=lambda a:a)"
   ]
  },
  {
   "cell_type": "code",
   "execution_count": null,
   "metadata": {},
   "outputs": [],
   "source": [
    "mylist"
   ]
  },
  {
   "cell_type": "code",
   "execution_count": 22,
   "metadata": {},
   "outputs": [
    {
     "data": {
      "text/plain": [
       "[('jo', 23, 100), ('lee', 24, 200), ('Park', 30, 150)]"
      ]
     },
     "execution_count": 22,
     "metadata": {},
     "output_type": "execute_result"
    }
   ],
   "source": [
    "mylist2 = [('jo', 23, 100), ('lee', 24, 200), ('Park', 30, 150)]\n",
    "mylist2"
   ]
  },
  {
   "cell_type": "code",
   "execution_count": 23,
   "metadata": {},
   "outputs": [
    {
     "data": {
      "text/plain": [
       "[('jo', 23, 100), ('Park', 30, 150), ('lee', 24, 200)]"
      ]
     },
     "execution_count": 23,
     "metadata": {},
     "output_type": "execute_result"
    }
   ],
   "source": [
    "mylist2.sort(key=lambda a : a[2])\n",
    "mylist2"
   ]
  },
  {
   "cell_type": "code",
   "execution_count": 34,
   "metadata": {},
   "outputs": [],
   "source": [
    "# 대소문자 구분없이 sort 함수로 정렬\n",
    "# lambda 쓰기\n",
    "# lower 함수 \n",
    "mylist3 = [('Aa'),('DEF'),('cEf')]\n",
    "mylist3.sort(key=lambda a : a.lower())"
   ]
  },
  {
   "cell_type": "code",
   "execution_count": 35,
   "metadata": {},
   "outputs": [
    {
     "data": {
      "text/plain": [
       "['Aa', 'cEf', 'DEF']"
      ]
     },
     "execution_count": 35,
     "metadata": {},
     "output_type": "execute_result"
    }
   ],
   "source": [
    "mylist3"
   ]
  },
  {
   "cell_type": "code",
   "execution_count": 36,
   "metadata": {},
   "outputs": [],
   "source": [
    "mydict1= {'one' : 1,'two':2,'three':3 }"
   ]
  },
  {
   "cell_type": "code",
   "execution_count": 38,
   "metadata": {},
   "outputs": [
    {
     "data": {
      "text/plain": [
       "['one', 'three', 'two']"
      ]
     },
     "execution_count": 38,
     "metadata": {},
     "output_type": "execute_result"
    }
   ],
   "source": [
    "sorted(mydict1)"
   ]
  },
  {
   "cell_type": "code",
   "execution_count": 40,
   "metadata": {},
   "outputs": [
    {
     "data": {
      "text/plain": [
       "[('one', 1), ('three', 3), ('two', 2)]"
      ]
     },
     "execution_count": 40,
     "metadata": {},
     "output_type": "execute_result"
    }
   ],
   "source": [
    "sorted(mydict1.items())"
   ]
  },
  {
   "cell_type": "code",
   "execution_count": 41,
   "metadata": {},
   "outputs": [
    {
     "data": {
      "text/plain": [
       "list"
      ]
     },
     "execution_count": 41,
     "metadata": {},
     "output_type": "execute_result"
    }
   ],
   "source": [
    "type(sorted(mydict1.items()))"
   ]
  },
  {
   "cell_type": "code",
   "execution_count": 42,
   "metadata": {},
   "outputs": [
    {
     "data": {
      "text/plain": [
       "[('one', 1), ('two', 2), ('three', 3)]"
      ]
     },
     "execution_count": 42,
     "metadata": {},
     "output_type": "execute_result"
    }
   ],
   "source": [
    "sorted(mydict1.items(), key=lambda a : a[1])"
   ]
  },
  {
   "cell_type": "code",
   "execution_count": 43,
   "metadata": {},
   "outputs": [
    {
     "data": {
      "text/plain": [
       "[('one', 1), ('three', 3), ('two', 2)]"
      ]
     },
     "execution_count": 43,
     "metadata": {},
     "output_type": "execute_result"
    }
   ],
   "source": [
    "sorted(mydict1.items(), key=lambda a : a[0])"
   ]
  },
  {
   "cell_type": "code",
   "execution_count": null,
   "metadata": {},
   "outputs": [],
   "source": []
  }
 ],
 "metadata": {
  "kernelspec": {
   "display_name": "Python 3",
   "language": "python",
   "name": "python3"
  },
  "language_info": {
   "codemirror_mode": {
    "name": "ipython",
    "version": 3
   },
   "file_extension": ".py",
   "mimetype": "text/x-python",
   "name": "python",
   "nbconvert_exporter": "python",
   "pygments_lexer": "ipython3",
   "version": "3.6.5"
  }
 },
 "nbformat": 4,
 "nbformat_minor": 2
}

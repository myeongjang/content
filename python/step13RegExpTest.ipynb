{
 "cells": [
  {
   "cell_type": "markdown",
   "metadata": {},
   "source": [
    "# 정규 표현식 익숙해지기\n",
    "> [문자 클래스]\n",
    "[abc] - a, b, c중 한 개의 문자와 매치\n",
    "\n",
    "        a : 매치여부 OK\n",
    "        apple : ok\n",
    "        double : no\n",
    "        \\d : 숫자와 매치, [0-9]와 동일\n",
    "\n",
    "        \\D : 숫자가 아닌 것과 매치 [^0-9]와 동일\n",
    "\n",
    "        \\s : whitespace 문자와 매치\n",
    "\n",
    "        \\S : whitespace 문자가 아닌것과 매치,\n",
    "\n",
    "        \\w : 문잦 + 숫자와 매치, [a-zA-Z0-9]와 동일\n",
    "\n",
    "        \\W : 문자+숫자가 아닌 문자와 매치. [^a-zA-Z0-9]와 동일\n",
    "\n",
    "        a.b : a와 b 사이에 줄바꿈 문자를 제외한 모든 문자 허용\n",
    "\n",
    "        a[.]b : a와 b 사이에 dot 문자만 허용\n",
    "\n",
    "        ca*t : a 문자가 0번 이상 반복 허용\n",
    "\n",
    "        ca+t : a 문자가 1번 이상 반복 허용\n",
    "\n",
    "        ca?t : a 문자가 없거나, 1번만 허용\n",
    "\n",
    "        ca{3}t : a 문자가 3번 반복되면 매치\n",
    "\n",
    "        ca{2, 3}t : a 문자가 2~3번 반복되면 매치"
   ]
  },
  {
   "cell_type": "code",
   "execution_count": 1,
   "metadata": {},
   "outputs": [],
   "source": [
    "import re"
   ]
  },
  {
   "cell_type": "code",
   "execution_count": 3,
   "metadata": {},
   "outputs": [
    {
     "name": "stdout",
     "output_type": "stream",
     "text": [
      "None\n"
     ]
    }
   ],
   "source": [
    "pattern = re.compile(\"[^ab]\")\n",
    "data = pattern.match(\"abc\")\n",
    "print(data)"
   ]
  },
  {
   "cell_type": "code",
   "execution_count": 6,
   "metadata": {},
   "outputs": [
    {
     "name": "stdout",
     "output_type": "stream",
     "text": [
      "re.compile('e[a-z]+e')\n"
     ]
    }
   ],
   "source": [
    "pattern  = re.compile('e[a-z]+e')\n",
    "print(pattern)"
   ]
  },
  {
   "cell_type": "code",
   "execution_count": 10,
   "metadata": {},
   "outputs": [
    {
     "data": {
      "text/plain": [
       "<_sre.SRE_Match object; span=(0, 6), match='encore'>"
      ]
     },
     "execution_count": 10,
     "metadata": {},
     "output_type": "execute_result"
    }
   ],
   "source": [
    "pattern.match('encore')"
   ]
  },
  {
   "cell_type": "code",
   "execution_count": 9,
   "metadata": {},
   "outputs": [
    {
     "name": "stdout",
     "output_type": "stream",
     "text": [
      "re.compile('e[a-z]+e')\n"
     ]
    }
   ],
   "source": [
    "print(pattern)"
   ]
  },
  {
   "cell_type": "code",
   "execution_count": 18,
   "metadata": {},
   "outputs": [],
   "source": [
    "pattern = re.compile('[ㄱ-ㅎ]+\\d{3}-\\{4}-\\d{4}')"
   ]
  },
  {
   "cell_type": "code",
   "execution_count": 19,
   "metadata": {},
   "outputs": [],
   "source": [
    "pattern.match('조명장010-2816-6741')"
   ]
  },
  {
   "cell_type": "code",
   "execution_count": 38,
   "metadata": {},
   "outputs": [
    {
     "name": "stdout",
     "output_type": "stream",
     "text": [
      "['python one']\n"
     ]
    }
   ],
   "source": [
    "p = re.compile(\"^python\\s\\w+\")\n",
    "m = \"\"\"python one life is too short \n",
    "python two you need \n",
    "python three\"\"\"\n",
    "print(p.findall(m))"
   ]
  },
  {
   "cell_type": "code",
   "execution_count": 39,
   "metadata": {},
   "outputs": [
    {
     "name": "stdout",
     "output_type": "stream",
     "text": [
      "['python one', 'python two', 'python three']\n"
     ]
    }
   ],
   "source": [
    "p = re.compile(\"^python\\s\\w+\", re.MULTILINE)\n",
    "print(p.findall(m))"
   ]
  },
  {
   "cell_type": "markdown",
   "metadata": {},
   "source": [
    "6. 문제 입력되는 데이터 값을  주민등록 구조에 맞게 검증 및 뒤자리는 * 문자로 변경해 보기 * 검증되는 데이터 구조 : 000000-000000 여야 함\n",
    "   * 힌트\n",
    "   > 1. \\d{숫자} : 숫자 및 숫자 자리수 표현\n",
    "     2. sub(pattern, \"변경하게될 데이터\",원본 데이터 )"
   ]
  },
  {
   "cell_type": "code",
   "execution_count": 49,
   "metadata": {
    "scrolled": true
   },
   "outputs": [
    {
     "name": "stdout",
     "output_type": "stream",
     "text": [
      "900000-1000000\n",
      "900000-\\d*****\n"
     ]
    }
   ],
   "source": [
    "data1 = input()\n",
    "pattern = re.compile(\"\\d{6}-\\d{7}\")\n",
    "if pattern.match(data1) == None:\n",
    "    print(\"무효\")\n",
    "else:\n",
    "    data1 = re.sub(\"-\\d\\d{6}\",\"-\\d*****\",data1)\n",
    "    print(data1)"
   ]
  },
  {
   "cell_type": "markdown",
   "metadata": {},
   "source": [
    "> 데이터 그룹핑 라기\n",
    "   \n",
    "    1. 그룹핑이란? 특정 데이터가 계속해서 반복하는지를 조사할떄 사용 가능한 정규식\n",
    "    2.grouping 표기 : ()\n",
    "    \n",
    "> 그룹핑 관련 함수\n",
    "    1. group() : 매치된 \n",
    " "
   ]
  },
  {
   "cell_type": "code",
   "execution_count": 51,
   "metadata": {},
   "outputs": [
    {
     "data": {
      "text/plain": [
       "<_sre.SRE_Match object; span=(0, 8), match='test.zip'>"
      ]
     },
     "execution_count": 51,
     "metadata": {},
     "output_type": "execute_result"
    }
   ],
   "source": [
    "# 신통방통 문제\n",
    "# \"파일명.확장자\" 형태의 패턴 구성\n",
    "pattern = re.compile(\"\\w+[.].+\")\n",
    "data  = pattern.match(\"test.zip\")\n",
    "data"
   ]
  },
  {
   "cell_type": "code",
   "execution_count": 52,
   "metadata": {},
   "outputs": [],
   "source": [
    "# # '파일명.확장자' 형태의 패턴 구성\n",
    "# 단 bat는 제외(힌트 : b로 시작하는 것 제외하기)"
   ]
  },
  {
   "cell_type": "code",
   "execution_count": 55,
   "metadata": {},
   "outputs": [
    {
     "data": {
      "text/plain": [
       "<_sre.SRE_Match object; span=(0, 8), match='test.zip'>"
      ]
     },
     "execution_count": 55,
     "metadata": {},
     "output_type": "execute_result"
    }
   ],
   "source": [
    "pattern = re.compile(\"\\w+[.][^b].+\")\n",
    "data  = pattern.match(\"test.zip\")\n",
    "bat = pattern.match(\"test.bat\")\n",
    "data"
   ]
  },
  {
   "cell_type": "code",
   "execution_count": 57,
   "metadata": {},
   "outputs": [
    {
     "name": "stdout",
     "output_type": "stream",
     "text": [
      "None\n"
     ]
    }
   ],
   "source": [
    "print(bat)"
   ]
  },
  {
   "cell_type": "markdown",
   "metadata": {},
   "source": [
    "# 데이터를 효율적으로 구분하는 또 다른 기술(암호는 아님)"
   ]
  },
  {
   "cell_type": "code",
   "execution_count": 63,
   "metadata": {},
   "outputs": [
    {
     "name": "stdout",
     "output_type": "stream",
     "text": [
      "http\n"
     ]
    }
   ],
   "source": [
    "# http://www.google.com 에서 http만 뽑는 패턴\n",
    "# 긍정형 전방 탐색\n",
    "pattern = re.compile(\".+(?=:)\")\n",
    "data = pattern.search(\"http://www.google.com\")\n",
    "print(data.group())"
   ]
  },
  {
   "cell_type": "code",
   "execution_count": 64,
   "metadata": {},
   "outputs": [
    {
     "name": "stdout",
     "output_type": "stream",
     "text": [
      "http\n"
     ]
    }
   ],
   "source": [
    "print(data.group(0))"
   ]
  },
  {
   "cell_type": "code",
   "execution_count": 71,
   "metadata": {},
   "outputs": [
    {
     "name": "stdout",
     "output_type": "stream",
     "text": [
      "<_sre.SRE_Match object; span=(0, 8), match='t.ba..td'>\n"
     ]
    }
   ],
   "source": [
    "pattern = re.compile(\".*[.]([^b].?.?|.[^a]?.?|..?[^t]?)$\")\n",
    "data = pattern.match('t.ba..td')\n",
    "print(data)"
   ]
  },
  {
   "cell_type": "code",
   "execution_count": null,
   "metadata": {},
   "outputs": [],
   "source": []
  }
 ],
 "metadata": {
  "kernelspec": {
   "display_name": "Python 3",
   "language": "python",
   "name": "python3"
  },
  "language_info": {
   "codemirror_mode": {
    "name": "ipython",
    "version": 3
   },
   "file_extension": ".py",
   "mimetype": "text/x-python",
   "name": "python",
   "nbconvert_exporter": "python",
   "pygments_lexer": "ipython3",
   "version": "3.6.5"
  }
 },
 "nbformat": 4,
 "nbformat_minor": 2
}

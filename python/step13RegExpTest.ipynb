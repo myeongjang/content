{
 "cells": [
  {
   "cell_type": "markdown",
   "metadata": {},
   "source": [
    "# 정규 표현식 익숙해지기\n",
    "\n",
    "# [문자 클래스]\n",
    "\n",
    "1. [abc] - a, b, c중 한 개의 문자와 매치\n",
    "  - a : 매치여부 OK\n",
    "  - apple : ok\n",
    "  - double : no\n",
    "\n",
    "2. \\d   : 숫자와 매치, [0-9]와 동일\n",
    "\n",
    "3. \\D : 숫자가 아닌 것과 매치 [^0-9]와 동일\n",
    "\n",
    "4. \\s : whitespace 문자와 매치\n",
    "\n",
    "5. \\S : whitespace 문자가 아닌것과 매치, \n",
    "\n",
    "6. \\w : 문잦 + 숫자와 매치, [a-zA-Z0-9]와 동일\n",
    "\n",
    "7. \\W : 문자+숫자가 아닌 문자와 매치. [^a-zA-Z0-9]와 동일\n",
    "  \n",
    "\n",
    "\n",
    "8. a.b : a와 b 사이에 줄바꿈 문자를 제외한 모든 문자 허용\n",
    "\n",
    "9. a[.]b : a와 b 사이에 dot 문자만 허용\n",
    "\n",
    "10. ca*t  : a 문자가 0번 이상 반복 허용\n",
    "\n",
    "11. ca+t :  a 문자가 1번 이상 반복 허용\n",
    "\n",
    "12. ca?t : a 문자가 없거나, 1번만 허용\n",
    "\n",
    "13. ca{3}t : a 문자가 3번 반복되면 매치\n",
    "\n",
    "14. ca{2, 3}t : a 문자가 2~3번 반복되면 매치"
   ]
  },
  {
   "cell_type": "code",
   "execution_count": 2,
   "metadata": {},
   "outputs": [],
   "source": [
    "import re"
   ]
  },
  {
   "cell_type": "markdown",
   "metadata": {},
   "source": [
    "# 융희 왈\n",
    "[] 표기 내부에 ^ab로 표현되어 있을 경우 match() 함수를 사용해서 정규표현식 검증할\n",
    "경우 데이터는 \"abc\"인 경우 c는 왜 출력이 안되더냐?\n",
    "\n",
    "응용 : c가 나오게 해결"
   ]
  },
  {
   "cell_type": "code",
   "execution_count": 10,
   "metadata": {},
   "outputs": [
    {
     "name": "stdout",
     "output_type": "stream",
     "text": [
      "<re.Match object; span=(2, 3), match='c'>\n"
     ]
    }
   ],
   "source": [
    "pattern = re.compile(\"[^ab]\") #ab가 아니여야만 함. (^ab) - ab로 시작\n",
    "#data = pattern.match(\"abc\") # match함수는 앞에 문자를 찾기 때문에 뒤쪽에 오면 못찾음\n",
    "#data = pattern.match(\"cab\")\n",
    "data = pattern.search(\"abc\")\n",
    "print(data)"
   ]
  },
  {
   "cell_type": "code",
   "execution_count": 32,
   "metadata": {},
   "outputs": [
    {
     "data": {
      "text/plain": [
       "<re.Match object; span=(0, 6), match='encore'>"
      ]
     },
     "execution_count": 32,
     "metadata": {},
     "output_type": "execute_result"
    }
   ],
   "source": [
    "pattern = re.compile(\"e[a-z]+e\") # (^encore), (encore), encore, e....e, en...e, \\D+, e?n?c?o?r?e?, \\S+, [encore]+, e[a-z]+e\n",
    "pattern.search(\"encore\")"
   ]
  },
  {
   "cell_type": "markdown",
   "metadata": {},
   "source": [
    "2. 문제 - 설명에 부합되는 정규 표현식을 만들어라<br><br>\n",
    "data로 시작하며 data 다음에는 whitespace가 와야 하며,그 뒤에는 문자와 숫자 등이 조합될 수 있는 단어가 와야 한다"
   ]
  },
  {
   "cell_type": "code",
   "execution_count": 34,
   "metadata": {},
   "outputs": [
    {
     "name": "stdout",
     "output_type": "stream",
     "text": [
      "<re.Match object; span=(0, 8), match='data ang'>\n"
     ]
    }
   ],
   "source": [
    "pattern = re.compile(\"(^data)\\s\\w+\") \n",
    "data = pattern.search(\"data ang\")\n",
    "print(data)"
   ]
  },
  {
   "cell_type": "markdown",
   "metadata": {},
   "source": [
    "3. 문제 - 000-0000-0000과 같은 전화번호 형태의 정규 표현식 만들기"
   ]
  },
  {
   "cell_type": "code",
   "execution_count": 37,
   "metadata": {},
   "outputs": [
    {
     "name": "stdout",
     "output_type": "stream",
     "text": [
      "<re.Match object; span=(0, 13), match='010-2522-9442'>\n"
     ]
    }
   ],
   "source": [
    "pattern = re.compile(\"\\d{3}-\\d{4}-\\d{4}\") \n",
    "data = pattern.match(\"010-2522-9442\")\n",
    "print(data)"
   ]
  },
  {
   "cell_type": "markdown",
   "metadata": {},
   "source": [
    "3. 추가 문제 - 이름 000-0000-0000과 같은 전화번호 형태의 정규 표현식 만들기"
   ]
  },
  {
   "cell_type": "code",
   "execution_count": 41,
   "metadata": {},
   "outputs": [
    {
     "name": "stdout",
     "output_type": "stream",
     "text": [
      "<re.Match object; span=(0, 18), match='융융융융 010-2522-9442'>\n"
     ]
    }
   ],
   "source": [
    "pattern = re.compile(\".{1,4}\\s\\d{3}-\\d{4}-\\d{4}\")  # (\\w+)\\s\\d+[-]\\d+[-]\\d+\n",
    "data = pattern.match(\"융융융융 010-2522-9442\")\n",
    "print(data)"
   ]
  },
  {
   "cell_type": "markdown",
   "metadata": {},
   "source": [
    "4. 문제 : 제시된 실행 결과를 보고 pattern을 완성해 보기<br>\n",
    "    *결과:검색된 데이터:two<br>\n",
    "    *참고:group():매치된 문자열을 리턴"
   ]
  },
  {
   "cell_type": "code",
   "execution_count": 49,
   "metadata": {},
   "outputs": [
    {
     "name": "stdout",
     "output_type": "stream",
     "text": [
      "검색된 데이터 :  two\n"
     ]
    }
   ],
   "source": [
    "p = re.compile(\"t\\w+\")\n",
    "# 데이터가 존재하면 데이터 반환\n",
    "# 데이터가 미 존재하면 None 값 반환\n",
    "\n",
    "m = p.search('one two three') \n",
    "if m != None:\n",
    "    print(\"검색된 데이터 : \", m.group())\n",
    "else:\n",
    "    print(\"검색불가\")"
   ]
  },
  {
   "cell_type": "markdown",
   "metadata": {},
   "source": [
    "5. 문자열에서 \"python one\"만을 착출 할수 있는 pattern 만들기"
   ]
  },
  {
   "cell_type": "code",
   "execution_count": 17,
   "metadata": {},
   "outputs": [
    {
     "name": "stdout",
     "output_type": "stream",
     "text": [
      "검색된 데이터 :  ['python one', 'python two', 'python three']\n"
     ]
    }
   ],
   "source": [
    "p = re.compile(\"^p\\w{5}\\s\\w+\", re.MULTILINE)\n",
    "# 데이터가 존재하면 데이터 반환\n",
    "# 데이터가 미 존재하면 None 값 반환\n",
    "\n",
    "m = p.findall(\"\"\"python one life is too short \n",
    "python two \n",
    "you need python \n",
    "python three\"\"\") \n",
    "if m != None:\n",
    "    print(\"검색된 데이터 : \", m[:])\n",
    "else:\n",
    "    print(\"검색불가\")"
   ]
  },
  {
   "cell_type": "markdown",
   "metadata": {},
   "source": [
    "6. 문제 : 입력되는 데이터값을 주민등록 구조에 맞게 검증 및 뒷자리는 * 문자로 변<br>\n",
    "   경해 보기 * 검증되는 데이터 구조: 000000-0000000 여야 함<br>\n",
    "   *힌트\n",
    ">1.\\d{숫자}:숫자 및 숫자 자리수 표현<br>\n",
    ">2.sub(pattern,\"변경하게될데이터\",원본데이터)<br>"
   ]
  },
  {
   "cell_type": "code",
   "execution_count": 25,
   "metadata": {},
   "outputs": [
    {
     "name": "stdout",
     "output_type": "stream",
     "text": [
      "930105-*******\n"
     ]
    }
   ],
   "source": [
    "pattern = re.compile(\"\\d{6}-\\d{7}\")  # (\\w+)\\s\\d+[-]\\d+[-]\\d+\n",
    "#data = pattern.match(\"930105-1111111\")\n",
    "data = re.sub(\"-\\d+\",\"-*******\",\"930105-1111111\")\n",
    "print(data)"
   ]
  },
  {
   "cell_type": "code",
   "execution_count": null,
   "metadata": {},
   "outputs": [],
   "source": []
  },
  {
   "cell_type": "code",
   "execution_count": null,
   "metadata": {},
   "outputs": [],
   "source": []
  },
  {
   "cell_type": "code",
   "execution_count": null,
   "metadata": {},
   "outputs": [],
   "source": []
  },
  {
   "cell_type": "code",
   "execution_count": null,
   "metadata": {},
   "outputs": [],
   "source": []
  }
 ],
 "metadata": {
  "kernelspec": {
   "display_name": "Python 3",
   "language": "python",
   "name": "python3"
  },
  "language_info": {
   "codemirror_mode": {
    "name": "ipython",
    "version": 3
   },
   "file_extension": ".py",
   "mimetype": "text/x-python",
   "name": "python",
   "nbconvert_exporter": "python",
   "pygments_lexer": "ipython3",
   "version": "3.7.0"
  }
 },
 "nbformat": 4,
 "nbformat_minor": 2
}

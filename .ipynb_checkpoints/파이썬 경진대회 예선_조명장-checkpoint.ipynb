{
 "cells": [
  {
   "cell_type": "markdown",
   "metadata": {},
   "source": [
    "## 파이썬 경진대회 예선\n",
    "\n",
    "2018.11.27.\n",
    "\n",
    "-- Description --\n",
    "1. 여러분들이 낸 문제를 모아, 난도를 조절하여 재구성했습니다\n",
    "2. 문제는 뒤로 갈수록 어려워집니다\n",
    "3. 총 15문제이며, 제한시간은 120분입니다\n",
    "4. 오답 없이 제한시간 내에 모든 문제를 푸신 분에게 결선 진출권이 부여됩니다"
   ]
  },
  {
   "cell_type": "markdown",
   "metadata": {},
   "source": [
    "### 문제 1\n",
    "\n",
    "for 문을 활용하여 6부터 20까지 2씩 증가시키며 list 변수에 데이터 값을 저장하세요<br>\n",
    "단, 6의 배수는 list에 저장하지 말 것"
   ]
  },
  {
   "cell_type": "code",
   "execution_count": 35,
   "metadata": {},
   "outputs": [
    {
     "data": {
      "text/plain": [
       "[8, 10, 14, 16, 20]"
      ]
     },
     "execution_count": 35,
     "metadata": {},
     "output_type": "execute_result"
    }
   ],
   "source": [
    "list1=[]\n",
    "for i in range(6,20,2):\n",
    "    if i//6 = 0 \n",
    "       pass\n",
    "    else:\n",
    "        list1.append()"
   ]
  },
  {
   "cell_type": "markdown",
   "metadata": {},
   "source": [
    "### 문제 2\n",
    "\n",
    "연속된 숫자를 입력받은 후, 중복된 값을 제거하고 오름차순 정렬하여 출력하세요\n",
    "<br>\n",
    "예시)<br>\n",
    "입력: 1 1 1 4 5 6 3<br>\n",
    "출력: 1 3 4 5 6"
   ]
  },
  {
   "cell_type": "code",
   "execution_count": 34,
   "metadata": {},
   "outputs": [
    {
     "name": "stdout",
     "output_type": "stream",
     "text": [
      "1 3 4 5 6 "
     ]
    }
   ],
   "source": []
  },
  {
   "cell_type": "markdown",
   "metadata": {},
   "source": [
    "### 문제 3\n",
    "\n",
    "data에 저장된 문자열을 단어로 분리해 리스트를 만들고, 홀수 번째에 위치한 단어만 출력하세요<br/>\n",
    "단, 문장 부호는 제거할 것"
   ]
  },
  {
   "cell_type": "code",
   "execution_count": 73,
   "metadata": {
    "collapsed": true
   },
   "outputs": [],
   "source": [
    "data = \"행복한 순간에는 차가운 공기마저 따뜻하게 느껴지고, 슬픈 순간에는 따뜻한 공기마저 시리게 느껴진다. 온 우주는 나의 기분에 따라 움직이고 있었다. 그렇다. 이 세상의 주인은 나 였다.\""
   ]
  },
  {
   "cell_type": "code",
   "execution_count": 74,
   "metadata": {},
   "outputs": [
    {
     "data": {
      "text/plain": [
       "['행복한',\n",
       " '차가운',\n",
       " '따뜻하게',\n",
       " '슬픈',\n",
       " '따뜻한',\n",
       " '시리게',\n",
       " '온',\n",
       " '나의',\n",
       " '따라',\n",
       " '있었다',\n",
       " '이',\n",
       " '주인은',\n",
       " '였다']"
      ]
     },
     "execution_count": 74,
     "metadata": {},
     "output_type": "execute_result"
    }
   ],
   "source": []
  },
  {
   "cell_type": "markdown",
   "metadata": {},
   "source": [
    "### 문제 4\n",
    "\n",
    "주어진 코드의 주석 부분을 수정하여, 공백 없이 대문자만 출력하세요"
   ]
  },
  {
   "cell_type": "code",
   "execution_count": 4,
   "metadata": {},
   "outputs": [
    {
     "data": {
      "text/plain": [
       "'word에서 공백없는 문자열 대입을 위한 코드 입력.'"
      ]
     },
     "execution_count": 4,
     "metadata": {},
     "output_type": "execute_result"
    }
   ],
   "source": [
    "word = \"abc    ABC AbC abC   \"\n",
    "delSpace = '''word에서 공백없는 문자열 대입을 위한 코드 입력.'''\n",
    "for i in delSpace:\n",
    "    if(i.islower() == True):\n",
    "        '''소문자 문자열은 제거된 것을 delSpace에 대입하는 코드 입력'''\n",
    "\n",
    "delSpace # 결과값은 ABCACC"
   ]
  },
  {
   "cell_type": "code",
   "execution_count": 57,
   "metadata": {},
   "outputs": [
    {
     "data": {
      "text/plain": [
       "'ABCACC'"
      ]
     },
     "execution_count": 57,
     "metadata": {},
     "output_type": "execute_result"
    }
   ],
   "source": []
  },
  {
   "cell_type": "markdown",
   "metadata": {},
   "source": [
    "### 문제 5\n",
    "위의 글에서 대문자, 소문자, 숫자의 개수를 계산하세요<br>\n",
    "단, 문자, 숫자를 제외한 공백 등의 기호 등을 replace()를 이용해 제거"
   ]
  },
  {
   "cell_type": "code",
   "execution_count": 1,
   "metadata": {
    "collapsed": true
   },
   "outputs": [],
   "source": [
    "data = 'Python is an interpreted high-level programming language for general-purpose programming. Created by Guido van Rossum and first released in 1991, Python has a design philosophy that emphasizes code readability, notably using significant whitespace. It provides constructs that enable clear programming on both small and large scales. In July 2018, Van Rossum stepped down as the leader in the language community after 30 years.'"
   ]
  },
  {
   "cell_type": "code",
   "execution_count": 3,
   "metadata": {},
   "outputs": [
    {
     "name": "stdout",
     "output_type": "stream",
     "text": [
      "336\n",
      "10\n",
      "10\n"
     ]
    }
   ],
   "source": []
  },
  {
   "cell_type": "markdown",
   "metadata": {},
   "source": [
    "### 문제 6\n",
    "\n",
    "다음 코드의 ? 부분을 완성하여 1~50 사이의 랜덤 숫자 맞추기 Up & Down 게임을 만들어 보세요"
   ]
  },
  {
   "cell_type": "code",
   "execution_count": null,
   "metadata": {
    "collapsed": true
   },
   "outputs": [],
   "source": [
    "import random\n",
    "\n",
    "ran = random.randrange(1, 51) # 1~50 사이의 숫자 랜덤 생성\n",
    "num = 0\n",
    "count = 0\n",
    "\n",
    "print(\"숫자 Up & Down 게임 시작!\")\n",
    "print(\"---------------------------\")\n",
    "while ran!=num:\n",
    "    num = int(input(\"1 ~ 50 사이의 숫자를 입력하세요 : \"))\n",
    "\n",
    "    if ( ? ):\n",
    "        print(\"Down\")\n",
    "    elif ( ? ):\n",
    "        print(\"Up\")\n",
    "    ? += 1\n",
    "    \n",
    "print(\"---------------------------\")\n",
    "print(count, \"번 만에 정답을 맞추셨습니다.\")"
   ]
  },
  {
   "cell_type": "markdown",
   "metadata": {},
   "source": [
    "### 문제 7\n",
    "\n",
    "아래의 sentence에 저장된 문장은 뒤집어도 같은 문장입니다 <br/>\n",
    "그러나 컴퓨터는 같은 문장으로 인식하지 못하고(False 출력) 있습니다 <br/>\n",
    "적절한 함수를 사용하여 컴퓨터가 True가 출력될 수 있도록 수정하세요"
   ]
  },
  {
   "cell_type": "code",
   "execution_count": null,
   "metadata": {
    "collapsed": true
   },
   "outputs": [],
   "source": [
    "sentence=\"여보 안경 안보여\"\n",
    "sentence==sentence[::-1]"
   ]
  },
  {
   "cell_type": "markdown",
   "metadata": {},
   "source": [
    "### 문제 8\n",
    "\n",
    "다음 파일 리스트 중 .jpg, .png 이미지 파일만 출력되게 만드세요<br>\n",
    "출력 결과는 리스트 형태입니다<br><br>\n",
    "HINT: find() 메소드 사용<br>\n",
    "<br>\n",
    "출력 <br>\n",
    "['1.png', '10.jpg', '2.jpg', '3.png']"
   ]
  },
  {
   "cell_type": "code",
   "execution_count": 59,
   "metadata": {
    "collapsed": true
   },
   "outputs": [],
   "source": [
    "files = ['font', '1.png', '10.jpg', '11.gif', '2.jpg', '3.png', 'table.xslx', 'spec.docx']"
   ]
  },
  {
   "cell_type": "markdown",
   "metadata": {},
   "source": [
    "### 문제 9\n",
    "\n",
    "다음 람다로 구현한 함수의 ? 부분을 채워, 전화번호를 완성해 보세요<br/>\n",
    "(숫자를 입력하면, 사이에 '-'를 넣어 반환)"
   ]
  },
  {
   "cell_type": "code",
   "execution_count": 54,
   "metadata": {},
   "outputs": [
    {
     "data": {
      "text/plain": [
       "'010-1234-1234'"
      ]
     },
     "execution_count": 54,
     "metadata": {},
     "output_type": "execute_result"
    }
   ],
   "source": [
    "tel = lambda *num, seq='-' : ?\n",
    "tel('010', '1234', '1234')"
   ]
  },
  {
   "cell_type": "markdown",
   "metadata": {},
   "source": [
    "### 문제 10\n",
    "\n",
    "다음 게임 유저들의 채팅 내역을 보고, 채팅제한 여부를 판단하는 함수를 완성하세요<br/>\n",
    "단, 채팅제한 여부는 비속어 사용 유무로 합니다"
   ]
  },
  {
   "cell_type": "code",
   "execution_count": 70,
   "metadata": {
    "collapsed": true
   },
   "outputs": [],
   "source": [
    "# user 3명의 채팅 내역 data\n",
    "user = {\n",
    "'user1' : '와 게임 발로하는거 아니냐. 평생 미드에서 삽질 하다가 팔근육 부자되라',\n",
    "'user2' : 'ㄷㄷㄷ 이렇게 즐거운 게임은 처음입니다. 다음에 또 같이 던전 돌아요!',\n",
    "'user3' : 'ㅈㄹ 멘탈 부셔진다... 오늘은 여기까지만 하겠습니다. 즐 겜 하 세 요.'\n",
    "}\n",
    "\n",
    "#비속어 사전\n",
    "dic = ['법규', '나쁜놈', '헛소리', '삽질', '미친', 'ㅈㄹ']"
   ]
  },
  {
   "cell_type": "code",
   "execution_count": null,
   "metadata": {
    "collapsed": true
   },
   "outputs": [],
   "source": [
    "#답안\n",
    "def get_block(uid):\n",
    "    user_chat = user[uid].split()\n",
    "\n",
    "    block = False\n",
    "    for i in user_chat:\n",
    "        if ? in ?:\n",
    "            ?\n",
    "        \n",
    "    if block:\n",
    "        print('{}은 비속어로 인한 채팅제한이 필요합니다!'.format(uid))\n",
    "    else:\n",
    "        print('{}은 클린 유저입니다.'.format(uid))\n",
    "        \n",
    "for uid in user:\n",
    "    get_block(uid)"
   ]
  },
  {
   "cell_type": "markdown",
   "metadata": {},
   "source": [
    "### 문제 11\n",
    "\"2018년 11월 23일 금요일\" 과 같이 출력되도록 빈칸을 완성하세요\n",
    "\n",
    "참고: https://docs.python.org/3.5/library/datetime.html?highlight=datetime#module-datetime"
   ]
  },
  {
   "cell_type": "code",
   "execution_count": null,
   "metadata": {
    "collapsed": true
   },
   "outputs": [],
   "source": [
    "import datetime\n",
    "\n",
    "class date:\n",
    "    def __init__(self, y, m, d):\n",
    "        ?\n",
    "        \n",
    "    def __str__(self):\n",
    "        return ?\n",
    "    \n",
    "    def setDate(self, newY, newM, newD):\n",
    "        self.y = newY\n",
    "        self.m = newM\n",
    "        self.d = newD\n",
    "        \n",
    "    def getDayName(self):\n",
    "        return ['월', '화', '수', '목', '금', '토', '일'][datetime.date(int(self.y), int(self.m), int(self.d)).weekday()] + ?\n",
    "    \n",
    "p = date('2018','11','27')\n",
    "day = ?\n",
    "print(p, day)"
   ]
  },
  {
   "cell_type": "code",
   "execution_count": 2,
   "metadata": {},
   "outputs": [
    {
     "name": "stdout",
     "output_type": "stream",
     "text": [
      "2018년 11월 27일  화요일\n"
     ]
    }
   ],
   "source": []
  },
  {
   "cell_type": "markdown",
   "metadata": {},
   "source": [
    "### 문제 12\n",
    "\n",
    "[[y+x*3+10 for y in range(3)] for x in range(3)]<br>\n",
    "[[10, 11, 12], [13, 14, 15], [16, 17, 18]]\n",
    "\n",
    "위의 이중 list를 응용하여 0~26까지의 3중 list를 아래 출력과 같이 만들고 마음에 안드는 숫자인 4의 배수(0 포함됨)를 조건문을 이용해서 출력되지 않도록 해주세요<br/>\n",
    "\n",
    "[[[1, 2], [3, 5], [6, 7]],<br/>\n",
    "[[9, 10, 11], [13, 14], [15, 17]],<br/>\n",
    "[[18, 19], [21, 22, 23], [25, 26]]]"
   ]
  },
  {
   "cell_type": "code",
   "execution_count": null,
   "metadata": {
    "collapsed": true
   },
   "outputs": [],
   "source": [
    "[[[? for ? in ? if ? ] for ? in ?] for ? in ? ]"
   ]
  },
  {
   "cell_type": "code",
   "execution_count": 5,
   "metadata": {},
   "outputs": [
    {
     "data": {
      "text/plain": [
       "[[[1, 2], [3, 5], [6, 7]],\n",
       " [[9, 10, 11], [13, 14], [15, 17]],\n",
       " [[18, 19], [21, 22, 23], [25, 26]]]"
      ]
     },
     "execution_count": 5,
     "metadata": {},
     "output_type": "execute_result"
    }
   ],
   "source": []
  },
  {
   "cell_type": "markdown",
   "metadata": {},
   "source": [
    "### 문제 13\n",
    "sort() 함수를 이용하지 말고, 새로운 함수를 만들어 리스트를 정렬하세요<br/>\n",
    "\n",
    "HINT1. 리스트에서 최소 값을 찾아 새로운 리스트에 차례로 추가<br/>\n",
    "HINT2. pop()과 append(), index() 메소드"
   ]
  },
  {
   "cell_type": "code",
   "execution_count": null,
   "metadata": {
    "collapsed": true
   },
   "outputs": [],
   "source": [
    "def mySort(input_list):\n",
    "    new_list = list()\n",
    "    \n",
    "    while ?:\n",
    "        ?\n",
    "    \n",
    "    return new_list"
   ]
  },
  {
   "cell_type": "code",
   "execution_count": 4,
   "metadata": {},
   "outputs": [
    {
     "data": {
      "text/plain": [
       "[1, 12, 33, 40, 56, 61, 66, 70, 86, 89]"
      ]
     },
     "execution_count": 4,
     "metadata": {},
     "output_type": "execute_result"
    }
   ],
   "source": [
    "input_list = [66, 70, 1, 61, 56, 33, 86, 89, 40, 12]\n",
    "\n",
    "mySort(input_list)"
   ]
  },
  {
   "cell_type": "markdown",
   "metadata": {},
   "source": [
    "### 문제 14\n",
    "\n",
    "Encore DA반에서 학생들의 이름과 나이, 고향을 조사했다<br> \n",
    "> student = ['송민지', '박현서', '이해인', '김현경']<br>\n",
    "> age = [25, 27, 27, 23]<br>\n",
    "> hometown = ['제주', '횡성', '포천', '서울']<br>\n",
    "> salary = ['15000만','7000만','14000만','9000만']<br><br>\n",
    "\n",
    "Step1) Encore는 각 사람에 대한 정보를 원합니다. 각 학생 정보를 묶어 주세요<br/>\n",
    "(다행히도, student, age, hometown, salary는 순서대로 입력되어 있어 따로 매치해줄 필요는 없습니다)<br/>\n",
    "결과)\n",
    "[['송민지', 25, '제주', '15000만'], ['박현서', 27, '횡성', '7000만'], ['이해인', 27, '포천', '14000만'], ['김현경', 23, '서울', '9000만']]<br/><br/>\n",
    "Step2) 연봉 순으로 사람들을 배열한 후, 연봉이 제일 많은 사람의 정보를 추출하세요(배열 시, lambda 활용)<br/>\n",
    "결과) ['송민지', 25, '제주', '15000만']"
   ]
  },
  {
   "cell_type": "code",
   "execution_count": 65,
   "metadata": {
    "collapsed": true
   },
   "outputs": [],
   "source": [
    "student = ['송민지', '박현서', '이해인', '김현경']\n",
    "age = [25, 27, 27, 23]\n",
    "hometown = ['제주', '횡성', '포천', '서울']\n",
    "salary = ['15000만','7000만','14000만','9000만']"
   ]
  },
  {
   "cell_type": "markdown",
   "metadata": {
    "collapsed": true
   },
   "source": [
    "### 문제 15\n",
    "\n",
    "아래 설명을 보고, 코드의 빈 칸을 채워 리스트를 완성해 보세요<br/><br/>\n",
    "\n",
    "Step01)\n",
    "1. 숫자가 9개씩 들어있는 리스트를 9개씩 보유하고있는 리스트 안의 리스트를 생성한다\n",
    "2. 리스트 내부는 모두 0으로 채운다\n",
    "\n",
    "Step02)\n",
    "1. 이 리스트의 위, 아래, 왼쪽, 오른쪽 가장자리를 1씩 더한다\n",
    "2. 이 리스트의 대각 항목들도 1씩 더한다"
   ]
  },
  {
   "cell_type": "code",
   "execution_count": 5,
   "metadata": {},
   "outputs": [
    {
     "name": "stdout",
     "output_type": "stream",
     "text": [
      "[1, 1, 1, 1, 1, 1, 1, 1, 1]\n",
      "[1, 1, 0, 0, 0, 0, 0, 1, 1]\n",
      "[1, 0, 1, 0, 0, 0, 1, 0, 1]\n",
      "[1, 0, 0, 1, 0, 1, 0, 0, 1]\n",
      "[1, 0, 0, 0, 1, 0, 0, 0, 1]\n",
      "[1, 0, 0, 1, 0, 1, 0, 0, 1]\n",
      "[1, 0, 1, 0, 0, 0, 1, 0, 1]\n",
      "[1, 1, 0, 0, 0, 0, 0, 1, 1]\n",
      "[1, 1, 1, 1, 1, 1, 1, 1, 1]\n"
     ]
    }
   ],
   "source": [
    "'''\n",
    "아래와 같은 결과가 나오면 성공\n",
    "\n",
    "[1, 1, 1, 1, 1, 1, 1, 1, 1]\n",
    "[1, 1, 0, 0, 0, 0, 0, 1, 1]\n",
    "[1, 0, 1, 0, 0, 0, 1, 0, 1]\n",
    "[1, 0, 0, 1, 0, 1, 0, 0, 1]\n",
    "[1, 0, 0, 0, 1, 0, 0, 0, 1]\n",
    "[1, 0, 0, 1, 0, 1, 0, 0, 1]\n",
    "[1, 0, 1, 0, 0, 0, 1, 0, 1]\n",
    "[1, 1, 0, 0, 0, 0, 0, 1, 1]\n",
    "[1, 1, 1, 1, 1, 1, 1, 1, 1]\n",
    "\n",
    "'''\n",
    "\n",
    "width = 9\n",
    "height = width\n",
    "\n",
    "listedList = [ ? for i in range(height)]\n",
    "\n",
    "for i in range(width):\n",
    "    for j in range(height):\n",
    "        if ?:\n",
    "            listedList[i][j] = 1\n",
    "\n",
    "\n",
    "for i in listedList:\n",
    "    print (i)"
   ]
  },
  {
   "cell_type": "code",
   "execution_count": null,
   "metadata": {
    "collapsed": true
   },
   "outputs": [],
   "source": []
  }
 ],
 "metadata": {
  "kernelspec": {
   "display_name": "Python 3",
   "language": "python",
   "name": "python3"
  },
  "language_info": {
   "codemirror_mode": {
    "name": "ipython",
    "version": 3
   },
   "file_extension": ".py",
   "mimetype": "text/x-python",
   "name": "python",
   "nbconvert_exporter": "python",
   "pygments_lexer": "ipython3",
   "version": "3.6.5"
  }
 },
 "nbformat": 4,
 "nbformat_minor": 2
}
